{
  "nbformat": 4,
  "nbformat_minor": 0,
  "metadata": {
    "colab": {
      "name": "Task1_FP.ipynb",
      "provenance": [],
      "collapsed_sections": []
    },
    "kernelspec": {
      "name": "python3",
      "display_name": "Python 3"
    },
    "language_info": {
      "name": "python"
    },
    "widgets": {
      "application/vnd.jupyter.widget-state+json": {
        "3da23541c35f4529a41147fe46344d28": {
          "model_module": "@jupyter-widgets/controls",
          "model_name": "HBoxModel",
          "model_module_version": "1.5.0",
          "state": {
            "_dom_classes": [],
            "_model_module": "@jupyter-widgets/controls",
            "_model_module_version": "1.5.0",
            "_model_name": "HBoxModel",
            "_view_count": null,
            "_view_module": "@jupyter-widgets/controls",
            "_view_module_version": "1.5.0",
            "_view_name": "HBoxView",
            "box_style": "",
            "children": [
              "IPY_MODEL_54df4bca27594daeabc200a11626a480",
              "IPY_MODEL_56c606da4c5b4d6491690f765d291fc4",
              "IPY_MODEL_1e95867f04424c7b893df397e15360b7"
            ],
            "layout": "IPY_MODEL_b75a9e6cf06d4894a9bba766ee92faa7"
          }
        },
        "54df4bca27594daeabc200a11626a480": {
          "model_module": "@jupyter-widgets/controls",
          "model_name": "HTMLModel",
          "model_module_version": "1.5.0",
          "state": {
            "_dom_classes": [],
            "_model_module": "@jupyter-widgets/controls",
            "_model_module_version": "1.5.0",
            "_model_name": "HTMLModel",
            "_view_count": null,
            "_view_module": "@jupyter-widgets/controls",
            "_view_module_version": "1.5.0",
            "_view_name": "HTMLView",
            "description": "",
            "description_tooltip": null,
            "layout": "IPY_MODEL_fee5179998cd419da044ade7c8cf2e87",
            "placeholder": "​",
            "style": "IPY_MODEL_b9678e21af654736808e89480d62a4f2",
            "value": "Dl Completed...: 100%"
          }
        },
        "56c606da4c5b4d6491690f765d291fc4": {
          "model_module": "@jupyter-widgets/controls",
          "model_name": "FloatProgressModel",
          "model_module_version": "1.5.0",
          "state": {
            "_dom_classes": [],
            "_model_module": "@jupyter-widgets/controls",
            "_model_module_version": "1.5.0",
            "_model_name": "FloatProgressModel",
            "_view_count": null,
            "_view_module": "@jupyter-widgets/controls",
            "_view_module_version": "1.5.0",
            "_view_name": "ProgressView",
            "bar_style": "success",
            "description": "",
            "description_tooltip": null,
            "layout": "IPY_MODEL_c17bcf761aba4e2298726dff6e69706a",
            "max": 4,
            "min": 0,
            "orientation": "horizontal",
            "style": "IPY_MODEL_51cab950562a417ba0c44465b9d61c3f",
            "value": 4
          }
        },
        "1e95867f04424c7b893df397e15360b7": {
          "model_module": "@jupyter-widgets/controls",
          "model_name": "HTMLModel",
          "model_module_version": "1.5.0",
          "state": {
            "_dom_classes": [],
            "_model_module": "@jupyter-widgets/controls",
            "_model_module_version": "1.5.0",
            "_model_name": "HTMLModel",
            "_view_count": null,
            "_view_module": "@jupyter-widgets/controls",
            "_view_module_version": "1.5.0",
            "_view_name": "HTMLView",
            "description": "",
            "description_tooltip": null,
            "layout": "IPY_MODEL_93b7a518919d47f6a5800cf6111be386",
            "placeholder": "​",
            "style": "IPY_MODEL_4b33c16ffc8b423ab64e852381c993d7",
            "value": " 4/4 [00:00&lt;00:00,  7.81 file/s]"
          }
        },
        "b75a9e6cf06d4894a9bba766ee92faa7": {
          "model_module": "@jupyter-widgets/base",
          "model_name": "LayoutModel",
          "model_module_version": "1.2.0",
          "state": {
            "_model_module": "@jupyter-widgets/base",
            "_model_module_version": "1.2.0",
            "_model_name": "LayoutModel",
            "_view_count": null,
            "_view_module": "@jupyter-widgets/base",
            "_view_module_version": "1.2.0",
            "_view_name": "LayoutView",
            "align_content": null,
            "align_items": null,
            "align_self": null,
            "border": null,
            "bottom": null,
            "display": null,
            "flex": null,
            "flex_flow": null,
            "grid_area": null,
            "grid_auto_columns": null,
            "grid_auto_flow": null,
            "grid_auto_rows": null,
            "grid_column": null,
            "grid_gap": null,
            "grid_row": null,
            "grid_template_areas": null,
            "grid_template_columns": null,
            "grid_template_rows": null,
            "height": null,
            "justify_content": null,
            "justify_items": null,
            "left": null,
            "margin": null,
            "max_height": null,
            "max_width": null,
            "min_height": null,
            "min_width": null,
            "object_fit": null,
            "object_position": null,
            "order": null,
            "overflow": null,
            "overflow_x": null,
            "overflow_y": null,
            "padding": null,
            "right": null,
            "top": null,
            "visibility": null,
            "width": null
          }
        },
        "fee5179998cd419da044ade7c8cf2e87": {
          "model_module": "@jupyter-widgets/base",
          "model_name": "LayoutModel",
          "model_module_version": "1.2.0",
          "state": {
            "_model_module": "@jupyter-widgets/base",
            "_model_module_version": "1.2.0",
            "_model_name": "LayoutModel",
            "_view_count": null,
            "_view_module": "@jupyter-widgets/base",
            "_view_module_version": "1.2.0",
            "_view_name": "LayoutView",
            "align_content": null,
            "align_items": null,
            "align_self": null,
            "border": null,
            "bottom": null,
            "display": null,
            "flex": null,
            "flex_flow": null,
            "grid_area": null,
            "grid_auto_columns": null,
            "grid_auto_flow": null,
            "grid_auto_rows": null,
            "grid_column": null,
            "grid_gap": null,
            "grid_row": null,
            "grid_template_areas": null,
            "grid_template_columns": null,
            "grid_template_rows": null,
            "height": null,
            "justify_content": null,
            "justify_items": null,
            "left": null,
            "margin": null,
            "max_height": null,
            "max_width": null,
            "min_height": null,
            "min_width": null,
            "object_fit": null,
            "object_position": null,
            "order": null,
            "overflow": null,
            "overflow_x": null,
            "overflow_y": null,
            "padding": null,
            "right": null,
            "top": null,
            "visibility": null,
            "width": null
          }
        },
        "b9678e21af654736808e89480d62a4f2": {
          "model_module": "@jupyter-widgets/controls",
          "model_name": "DescriptionStyleModel",
          "model_module_version": "1.5.0",
          "state": {
            "_model_module": "@jupyter-widgets/controls",
            "_model_module_version": "1.5.0",
            "_model_name": "DescriptionStyleModel",
            "_view_count": null,
            "_view_module": "@jupyter-widgets/base",
            "_view_module_version": "1.2.0",
            "_view_name": "StyleView",
            "description_width": ""
          }
        },
        "c17bcf761aba4e2298726dff6e69706a": {
          "model_module": "@jupyter-widgets/base",
          "model_name": "LayoutModel",
          "model_module_version": "1.2.0",
          "state": {
            "_model_module": "@jupyter-widgets/base",
            "_model_module_version": "1.2.0",
            "_model_name": "LayoutModel",
            "_view_count": null,
            "_view_module": "@jupyter-widgets/base",
            "_view_module_version": "1.2.0",
            "_view_name": "LayoutView",
            "align_content": null,
            "align_items": null,
            "align_self": null,
            "border": null,
            "bottom": null,
            "display": null,
            "flex": null,
            "flex_flow": null,
            "grid_area": null,
            "grid_auto_columns": null,
            "grid_auto_flow": null,
            "grid_auto_rows": null,
            "grid_column": null,
            "grid_gap": null,
            "grid_row": null,
            "grid_template_areas": null,
            "grid_template_columns": null,
            "grid_template_rows": null,
            "height": null,
            "justify_content": null,
            "justify_items": null,
            "left": null,
            "margin": null,
            "max_height": null,
            "max_width": null,
            "min_height": null,
            "min_width": null,
            "object_fit": null,
            "object_position": null,
            "order": null,
            "overflow": null,
            "overflow_x": null,
            "overflow_y": null,
            "padding": null,
            "right": null,
            "top": null,
            "visibility": null,
            "width": null
          }
        },
        "51cab950562a417ba0c44465b9d61c3f": {
          "model_module": "@jupyter-widgets/controls",
          "model_name": "ProgressStyleModel",
          "model_module_version": "1.5.0",
          "state": {
            "_model_module": "@jupyter-widgets/controls",
            "_model_module_version": "1.5.0",
            "_model_name": "ProgressStyleModel",
            "_view_count": null,
            "_view_module": "@jupyter-widgets/base",
            "_view_module_version": "1.2.0",
            "_view_name": "StyleView",
            "bar_color": null,
            "description_width": ""
          }
        },
        "93b7a518919d47f6a5800cf6111be386": {
          "model_module": "@jupyter-widgets/base",
          "model_name": "LayoutModel",
          "model_module_version": "1.2.0",
          "state": {
            "_model_module": "@jupyter-widgets/base",
            "_model_module_version": "1.2.0",
            "_model_name": "LayoutModel",
            "_view_count": null,
            "_view_module": "@jupyter-widgets/base",
            "_view_module_version": "1.2.0",
            "_view_name": "LayoutView",
            "align_content": null,
            "align_items": null,
            "align_self": null,
            "border": null,
            "bottom": null,
            "display": null,
            "flex": null,
            "flex_flow": null,
            "grid_area": null,
            "grid_auto_columns": null,
            "grid_auto_flow": null,
            "grid_auto_rows": null,
            "grid_column": null,
            "grid_gap": null,
            "grid_row": null,
            "grid_template_areas": null,
            "grid_template_columns": null,
            "grid_template_rows": null,
            "height": null,
            "justify_content": null,
            "justify_items": null,
            "left": null,
            "margin": null,
            "max_height": null,
            "max_width": null,
            "min_height": null,
            "min_width": null,
            "object_fit": null,
            "object_position": null,
            "order": null,
            "overflow": null,
            "overflow_x": null,
            "overflow_y": null,
            "padding": null,
            "right": null,
            "top": null,
            "visibility": null,
            "width": null
          }
        },
        "4b33c16ffc8b423ab64e852381c993d7": {
          "model_module": "@jupyter-widgets/controls",
          "model_name": "DescriptionStyleModel",
          "model_module_version": "1.5.0",
          "state": {
            "_model_module": "@jupyter-widgets/controls",
            "_model_module_version": "1.5.0",
            "_model_name": "DescriptionStyleModel",
            "_view_count": null,
            "_view_module": "@jupyter-widgets/base",
            "_view_module_version": "1.2.0",
            "_view_name": "StyleView",
            "description_width": ""
          }
        }
      }
    }
  },
  "cells": [
    {
      "cell_type": "markdown",
      "source": [
        "# Project B: Knowledge Distillation for Building Lightweight Deep Learning Models in Visual Classification Tasks"
      ],
      "metadata": {
        "id": "6WYMfvCNPwpm"
      }
    },
    {
      "cell_type": "code",
      "source": [
        "import tensorflow.compat.v2 as tf\n",
        "import tensorflow_datasets as tfds\n",
        "from typing import Union\n",
        "\n",
        "tf.enable_v2_behavior()\n",
        "\n",
        "builder = tfds.builder('mnist')\n",
        "BATCH_SIZE = 256\n",
        "NUM_EPOCHS = 12\n",
        "NUM_CLASSES = 10  # 10 total classes."
      ],
      "metadata": {
        "id": "vA8ppgB2P0aJ"
      },
      "execution_count": null,
      "outputs": []
    },
    {
      "cell_type": "code",
      "source": [
        "import os\n",
        "import numpy as np\n",
        "# import pandas as pd\n",
        "import tensorflow\n",
        "from tensorflow import keras, matmul, reshape\n",
        "import keras\n",
        "from keras.preprocessing.image import ImageDataGenerator\n",
        "from keras.models import Sequential\n",
        "from keras import optimizers\n",
        "from keras.layers import Conv2D, MaxPooling2D, GlobalAveragePooling2D, Dense, Flatten, Dropout, InputLayer\n",
        "# from keras import regularizers\n",
        "# import keras.backend as K\n",
        "from tensorflow.math import exp\n",
        "from keras.models import Model,load_model\n",
        "from tensorflow.keras import layers,initializers\n",
        "# from tensorflow.core.util import event_pb2\n",
        "# from tensorflow.python.lib.io import tf_record\n",
        "import matplotlib.pyplot as plt\n",
        "import sklearn.metrics as metrics\n",
        "import random"
      ],
      "metadata": {
        "id": "bXrWiJbn1LQD"
      },
      "execution_count": null,
      "outputs": []
    },
    {
      "cell_type": "markdown",
      "source": [
        "# Data loading"
      ],
      "metadata": {
        "id": "H2EFLQROP2R7"
      }
    },
    {
      "cell_type": "code",
      "source": [
        "# Load train and test splits.\n",
        "def preprocess(x):\n",
        "  image = tf.image.convert_image_dtype(x['image'], tf.float32)\n",
        "  subclass_labels = tf.one_hot(x['label'], builder.info.features['label'].num_classes)\n",
        "  return image, subclass_labels\n",
        "\n",
        "\n",
        "mnist_train = tfds.load('mnist', split='train', shuffle_files=False).cache()\n",
        "mnist_train = mnist_train.map(preprocess)\n",
        "mnist_train = mnist_train.shuffle(builder.info.splits['train'].num_examples)\n",
        "mnist_train = mnist_train.batch(BATCH_SIZE, drop_remainder=True)\n",
        "\n",
        "mnist_test = tfds.load('mnist', split='test').cache()\n",
        "mnist_test = mnist_test.map(preprocess).batch(BATCH_SIZE)"
      ],
      "metadata": {
        "id": "ynByMG_UP4A4",
        "colab": {
          "base_uri": "https://localhost:8080/",
          "height": 207,
          "referenced_widgets": [
            "3da23541c35f4529a41147fe46344d28",
            "54df4bca27594daeabc200a11626a480",
            "56c606da4c5b4d6491690f765d291fc4",
            "1e95867f04424c7b893df397e15360b7",
            "b75a9e6cf06d4894a9bba766ee92faa7",
            "fee5179998cd419da044ade7c8cf2e87",
            "b9678e21af654736808e89480d62a4f2",
            "c17bcf761aba4e2298726dff6e69706a",
            "51cab950562a417ba0c44465b9d61c3f",
            "93b7a518919d47f6a5800cf6111be386",
            "4b33c16ffc8b423ab64e852381c993d7"
          ]
        },
        "outputId": "e7e5efc2-1259-4cb9-832f-fa242a1b4c85"
      },
      "execution_count": null,
      "outputs": [
        {
          "output_type": "stream",
          "name": "stdout",
          "text": [
            "\u001b[1mDownloading and preparing dataset mnist/3.0.1 (download: 11.06 MiB, generated: 21.00 MiB, total: 32.06 MiB) to /root/tensorflow_datasets/mnist/3.0.1...\u001b[0m\n"
          ]
        },
        {
          "output_type": "stream",
          "name": "stderr",
          "text": [
            "WARNING:absl:Dataset mnist is hosted on GCS. It will automatically be downloaded to your\n",
            "local data directory. If you'd instead prefer to read directly from our public\n",
            "GCS bucket (recommended if you're running on GCP), you can instead pass\n",
            "`try_gcs=True` to `tfds.load` or set `data_dir=gs://tfds-data/datasets`.\n",
            "\n"
          ]
        },
        {
          "output_type": "display_data",
          "data": {
            "text/plain": [
              "Dl Completed...:   0%|          | 0/4 [00:00<?, ? file/s]"
            ],
            "application/vnd.jupyter.widget-view+json": {
              "version_major": 2,
              "version_minor": 0,
              "model_id": "3da23541c35f4529a41147fe46344d28"
            }
          },
          "metadata": {}
        },
        {
          "output_type": "stream",
          "name": "stdout",
          "text": [
            "\n",
            "\u001b[1mDataset mnist downloaded and prepared to /root/tensorflow_datasets/mnist/3.0.1. Subsequent calls will reuse this data.\u001b[0m\n"
          ]
        }
      ]
    },
    {
      "cell_type": "code",
      "source": [
        "from google.colab import drive\n",
        "drive.mount('/content/drive')"
      ],
      "metadata": {
        "colab": {
          "base_uri": "https://localhost:8080/"
        },
        "id": "FJtFVm4DPowb",
        "outputId": "f0c54daf-6ada-41eb-dabb-45979cb18dd8"
      },
      "execution_count": null,
      "outputs": [
        {
          "output_type": "stream",
          "name": "stdout",
          "text": [
            "Mounted at /content/drive\n"
          ]
        }
      ]
    },
    {
      "cell_type": "code",
      "source": [
        "os.chdir(r'/content/drive/My Drive/KD')"
      ],
      "metadata": {
        "id": "DQuyLVBYPvTn"
      },
      "execution_count": null,
      "outputs": []
    },
    {
      "cell_type": "markdown",
      "source": [
        "# Model creation"
      ],
      "metadata": {
        "id": "kAZwfvW5P63q"
      }
    },
    {
      "cell_type": "code",
      "source": [
        "##@test {\"output\": \"ignore\"}\n",
        "\n",
        "# Build CNN teacher.\n",
        "cnn_model = tf.keras.Sequential()\n",
        "cnn_model.add(Conv2D(32,kernel_size=(3,3),strides=1, padding='same',activation='relu', input_shape=(28,28,1)))\n",
        "cnn_model.add(MaxPooling2D(pool_size=(2,2), strides=1))\n",
        "cnn_model.add(Conv2D(64,kernel_size= (3,3), strides=1,activation='relu' ))\n",
        "cnn_model.add(MaxPooling2D(pool_size=(2,2),strides=2))\n",
        "cnn_model.add(Flatten())\n",
        "cnn_model.add(Dropout(rate=0.5))\n",
        "cnn_model.add(Dense(128,activation='relu'))\n",
        "cnn_model.add(Dropout(rate=0.5))\n",
        "cnn_model.add(Dense(10))\n",
        "\n",
        "\n",
        "\n",
        "# Build fully connected student.\n",
        "fc_model = tf.keras.Sequential()\n",
        "fc_model.add(Flatten(input_shape=(28,28,1)))\n",
        "fc_model.add(Dense(784, activation='relu'))\n",
        "fc_model.add(Dense(784, activation='relu'))\n",
        "fc_model.add(Dense(10))\n",
        "\n",
        "fc_model.save_weights('fc_model.h5')\n",
        "\n"
      ],
      "metadata": {
        "id": "zINgDkA7P7BP"
      },
      "execution_count": null,
      "outputs": []
    },
    {
      "cell_type": "code",
      "source": [
        "cnn_model.summary()"
      ],
      "metadata": {
        "colab": {
          "base_uri": "https://localhost:8080/"
        },
        "id": "sjV9NJtXOVpQ",
        "outputId": "3012377c-5dcf-4d0a-953e-0f42047645e3"
      },
      "execution_count": null,
      "outputs": [
        {
          "output_type": "stream",
          "name": "stdout",
          "text": [
            "Model: \"sequential\"\n",
            "_________________________________________________________________\n",
            " Layer (type)                Output Shape              Param #   \n",
            "=================================================================\n",
            " conv2d (Conv2D)             (None, 28, 28, 32)        320       \n",
            "                                                                 \n",
            " max_pooling2d (MaxPooling2D  (None, 27, 27, 32)       0         \n",
            " )                                                               \n",
            "                                                                 \n",
            " conv2d_1 (Conv2D)           (None, 25, 25, 64)        18496     \n",
            "                                                                 \n",
            " max_pooling2d_1 (MaxPooling  (None, 12, 12, 64)       0         \n",
            " 2D)                                                             \n",
            "                                                                 \n",
            " flatten (Flatten)           (None, 9216)              0         \n",
            "                                                                 \n",
            " dropout (Dropout)           (None, 9216)              0         \n",
            "                                                                 \n",
            " dense (Dense)               (None, 128)               1179776   \n",
            "                                                                 \n",
            " dropout_1 (Dropout)         (None, 128)               0         \n",
            "                                                                 \n",
            " dense_1 (Dense)             (None, 10)                1290      \n",
            "                                                                 \n",
            "=================================================================\n",
            "Total params: 1,199,882\n",
            "Trainable params: 1,199,882\n",
            "Non-trainable params: 0\n",
            "_________________________________________________________________\n"
          ]
        }
      ]
    },
    {
      "cell_type": "code",
      "source": [
        "fc_model.summary()"
      ],
      "metadata": {
        "colab": {
          "base_uri": "https://localhost:8080/"
        },
        "id": "GFRXOmcOObSM",
        "outputId": "c79bce38-87d7-4c20-c6e5-323d36f6cd87"
      },
      "execution_count": null,
      "outputs": [
        {
          "output_type": "stream",
          "name": "stdout",
          "text": [
            "Model: \"sequential_1\"\n",
            "_________________________________________________________________\n",
            " Layer (type)                Output Shape              Param #   \n",
            "=================================================================\n",
            " flatten_1 (Flatten)         (None, 784)               0         \n",
            "                                                                 \n",
            " dense_2 (Dense)             (None, 784)               615440    \n",
            "                                                                 \n",
            " dense_3 (Dense)             (None, 784)               615440    \n",
            "                                                                 \n",
            " dense_4 (Dense)             (None, 10)                7850      \n",
            "                                                                 \n",
            "=================================================================\n",
            "Total params: 1,238,730\n",
            "Trainable params: 1,238,730\n",
            "Non-trainable params: 0\n",
            "_________________________________________________________________\n"
          ]
        }
      ]
    },
    {
      "cell_type": "markdown",
      "source": [
        "# Teacher loss function"
      ],
      "metadata": {
        "id": "8JWGucyrQGav"
      }
    },
    {
      "cell_type": "code",
      "source": [
        "@tf.function\n",
        "def compute_teacher_loss(images, labels):\n",
        "  \"\"\"Compute subclass knowledge distillation teacher loss for given images\n",
        "     and labels.\n",
        "\n",
        "  Args:\n",
        "    images: Tensor representing a batch of images.\n",
        "    labels: Tensor representing a batch of labels.\n",
        "\n",
        "  Returns:\n",
        "    Scalar loss Tensor.\n",
        "  \"\"\"\n",
        "  subclass_logits = cnn_model(images, training=True)\n",
        "  # Compute cross-entropy loss for subclasses.\n",
        "  cross_entropy_loss_value =tf.reduce_mean(tf.nn.softmax_cross_entropy_with_logits(labels, subclass_logits))\n",
        "  return cross_entropy_loss_value"
      ],
      "metadata": {
        "id": "DhzBP6ZLQJ57"
      },
      "execution_count": null,
      "outputs": []
    },
    {
      "cell_type": "markdown",
      "source": [
        "# Student loss function"
      ],
      "metadata": {
        "id": "JS8xkuH0QbOS"
      }
    },
    {
      "cell_type": "code",
      "source": [
        "##@test {\"output\": \"ignore\"}\n",
        "\n",
        "# Hyperparameters for distillation (need to be tuned).\n",
        "ALPHA = 0.5 # task balance between cross-entropy and distillation loss\n",
        "DISTILLATION_TEMPERATURE = 4. #temperature hyperparameter\n",
        "\n",
        "def distillation_loss(teacher_logits: tf.Tensor, student_logits: tf.Tensor,\n",
        "                      temperature: Union[float, tf.Tensor]):\n",
        "  \"\"\"Compute distillation loss.\n",
        "\n",
        "  This function computes cross entropy between softened logits and softened\n",
        "  targets. The resulting loss is scaled by the squared temperature so that\n",
        "  the gradient magnitude remains approximately constant as the temperature is\n",
        "  changed. For reference, see Hinton et al., 2014, \"Distilling the knowledge in\n",
        "  a neural network.\"\n",
        "\n",
        "  Args:\n",
        "    teacher_logits: A Tensor of logits provided by the teacher.\n",
        "    student_logits: A Tensor of logits provided by the student, of the same\n",
        "      shape as `teacher_logits`.\n",
        "    temperature: Temperature to use for distillation.\n",
        "\n",
        "  Returns:\n",
        "    A scalar Tensor containing the distillation loss.\n",
        "  \"\"\"\n",
        " # your code start from here for step 3\n",
        "  soft_targets = tf.nn.softmax(teacher_logits/temperature)\n",
        "\n",
        "  return tf.reduce_mean(\n",
        "      tf.nn.softmax_cross_entropy_with_logits(\n",
        "          soft_targets, student_logits / temperature)) * temperature ** 2\n",
        "\n",
        "def compute_student_loss(images, labels):\n",
        "  \"\"\"Compute subclass knowledge distillation student loss for given images\n",
        "     and labels.\n",
        "\n",
        "  Args:\n",
        "    images: Tensor representing a batch of images.\n",
        "    labels: Tensor representing a batch of labels.\n",
        "\n",
        "  Returns:\n",
        "    Scalar loss Tensor.\n",
        "  \"\"\"\n",
        "  student_subclass_logits = fc_model(images, training=True)\n",
        "\n",
        "  # Compute subclass distillation loss between student subclass logits and\n",
        "  # softened teacher subclass targets probabilities.\n",
        "\n",
        "  # your code start from here for step 3\n",
        "\n",
        "  teacher_subclass_logits = cnn_model(images, training=False)\n",
        "  distillation_loss_value = distillation_loss(teacher_subclass_logits, student_subclass_logits,temperature=DISTILLATION_TEMPERATURE)\n",
        "\n",
        "  # Compute cross-entropy loss with hard targets.\n",
        "\n",
        "  # your code start from here for step 3\n",
        "\n",
        "  cross_entropy_loss_value = tf.reduce_mean(tf.nn.softmax_cross_entropy_with_logits(labels, student_subclass_logits))\n",
        "\n",
        "  return ALPHA*distillation_loss_value+(1.0-ALPHA)*cross_entropy_loss_value "
      ],
      "metadata": {
        "id": "lDKia4gPQMIr"
      },
      "execution_count": null,
      "outputs": []
    },
    {
      "cell_type": "markdown",
      "source": [
        "# Train and evaluation"
      ],
      "metadata": {
        "id": "RJ1uyvurQ3w4"
      }
    },
    {
      "cell_type": "code",
      "source": [
        "@tf.function\n",
        "def compute_num_correct(model, images, labels):\n",
        "  \"\"\"Compute number of correctly classified images in a batch.\n",
        "\n",
        "  Args:\n",
        "    model: Instance of tf.keras.Model.\n",
        "    images: Tensor representing a batch of images.\n",
        "    labels: Tensor representing a batch of labels.\n",
        "\n",
        "  Returns:\n",
        "    Number of correctly classified images.\n",
        "  \"\"\"\n",
        "  class_logits = model(images, training=False)\n",
        "  return tf.reduce_sum(\n",
        "      tf.cast(tf.math.equal(tf.argmax(class_logits, -1), tf.argmax(labels, -1)),\n",
        "              tf.float32)), tf.argmax(class_logits, -1), tf.argmax(labels, -1)\n",
        "\n",
        "\n",
        "def train_and_evaluate(model, compute_loss_fn):\n",
        "  \"\"\"Perform training and evaluation for a given model.\n",
        "\n",
        "  Args:\n",
        "    model: Instance of tf.keras.Model.\n",
        "    compute_loss_fn: A function that computes the training loss given the\n",
        "      images, and labels.\n",
        "  \"\"\"\n",
        "\n",
        "  # your code start from here for step 4\n",
        "  optimizer = tf.keras.optimizers.Adam(learning_rate=0.001)\n",
        "  accuracy_=[]\n",
        "  for epoch in range(1, NUM_EPOCHS + 1):\n",
        "    # Run training.\n",
        "    print('Epoch {}: '.format(epoch), end='')\n",
        "    for images, labels in mnist_train:\n",
        "      with tf.GradientTape() as tape:\n",
        "         # your code start from here for step 4\n",
        "\n",
        "        loss_value = compute_loss_fn(images,labels)\n",
        "\n",
        "      grads = tape.gradient(loss_value,model.trainable_variables) \n",
        "      optimizer.apply_gradients(zip(grads, model.trainable_variables))\n",
        "\n",
        "    # Run evaluation.\n",
        "    num_correct = 0\n",
        "    num_total = builder.info.splits['test'].num_examples\n",
        "    for images, labels in mnist_test:\n",
        "      # your code start from here for step 4\n",
        "      num_correct += compute_num_correct(model, images, labels)[0]\n",
        "    Class_accuracy=num_correct / num_total * 100  \n",
        "    print(\"Class_accuracy: \" + '{:.2f}%'.format(\n",
        "        Class_accuracy))\n",
        "    accuracy_.append(Class_accuracy)\n",
        "  return Class_accuracy\n"
      ],
      "metadata": {
        "id": "EtoLbp8uQ4Vl"
      },
      "execution_count": null,
      "outputs": []
    },
    {
      "cell_type": "markdown",
      "source": [
        "# Training models"
      ],
      "metadata": {
        "id": "NQL1lJdaRPT1"
      }
    },
    {
      "cell_type": "code",
      "source": [
        "#Teacher model accuracy\n",
        "print('For the teacher model, the accuracy per epochs:')\n",
        "Accuracy_Teacher=train_and_evaluate(cnn_model,compute_teacher_loss)\n"
      ],
      "metadata": {
        "id": "-AGHbyABRPz3",
        "colab": {
          "base_uri": "https://localhost:8080/"
        },
        "outputId": "d21f5bc5-85d6-480e-95e4-e34dafcf9801"
      },
      "execution_count": null,
      "outputs": [
        {
          "output_type": "stream",
          "name": "stdout",
          "text": [
            "For the teacher model, the accuracy per epochs:\n",
            "Epoch 1: Class_accuracy: 97.91%\n",
            "Epoch 2: Class_accuracy: 98.75%\n",
            "Epoch 3: Class_accuracy: 98.74%\n",
            "Epoch 4: Class_accuracy: 98.90%\n",
            "Epoch 5: Class_accuracy: 98.88%\n",
            "Epoch 6: Class_accuracy: 99.15%\n",
            "Epoch 7: Class_accuracy: 99.18%\n",
            "Epoch 8: Class_accuracy: 99.02%\n",
            "Epoch 9: Class_accuracy: 99.14%\n",
            "Epoch 10: Class_accuracy: 99.21%\n",
            "Epoch 11: Class_accuracy: 99.18%\n",
            "Epoch 12: Class_accuracy: 99.29%\n"
          ]
        }
      ]
    },
    {
      "cell_type": "code",
      "source": [
        "#cnn_model.save('cnn_model_.h5')\n",
        "\n",
        "cnn_model=load_model('cnn_model.h5')\n",
        "# cnn_model.save_weights('cnn_model_weights.h5')"
      ],
      "metadata": {
        "colab": {
          "base_uri": "https://localhost:8080/"
        },
        "id": "taE-OUftRqii",
        "outputId": "f83274c3-c067-44aa-9761-f3e0ba7363a5"
      },
      "execution_count": null,
      "outputs": [
        {
          "output_type": "stream",
          "name": "stdout",
          "text": [
            "WARNING:tensorflow:No training configuration found in the save file, so the model was *not* compiled. Compile it manually.\n"
          ]
        },
        {
          "output_type": "stream",
          "name": "stderr",
          "text": [
            "WARNING:tensorflow:No training configuration found in the save file, so the model was *not* compiled. Compile it manually.\n"
          ]
        }
      ]
    },
    {
      "cell_type": "markdown",
      "source": [
        "# Alpha and Temperature\n",
        "ALPHA_spectrum = [0.,0.2,0.5,0.8] \n",
        "\n",
        "DISTILLATION_TEMPERATURE_spectrum = [1.,2.,4.,16.,32.,64.] "
      ],
      "metadata": {
        "id": "xaRJdoea8gUN"
      }
    },
    {
      "cell_type": "code",
      "source": [
        "# ALPHA_spectrum = [0.,0.2,0.5,0.8] # task balance between cross-entropy and distillation loss\n",
        "# DISTILLATION_TEMPERATURE_spectrum = [1.,2.,4.,16.,32.,64.] #temperature hyperparameter\n",
        "# All_Accuracy_student=[]\n",
        "\n",
        "# for ALPHA in ALPHA_spectrum:\n",
        "#   print(\"\\n\")\n",
        "#   print(\"-------- with alpha of \", ALPHA,\"------------\")\n",
        "#   for DISTILLATION_TEMPERATURE in DISTILLATION_TEMPERATURE_spectrum:\n",
        "#     print(\"Alpha (\", ALPHA, \") and temperature of \", DISTILLATION_TEMPERATURE)\n",
        "#     print('For the student model, we have the accuracy per epochs of:')\n",
        "    \n",
        "#     fc_model = tf.keras.Sequential()\n",
        "#     fc_model.add(Flatten(input_shape=(28, 28, 1)))\n",
        "#     fc_model.add(Dense(activation='relu', units=784, input_shape=(28, 28, 1)))\n",
        "#     fc_model.add(Dense(activation='relu', units=784))\n",
        "#     fc_model.add(Dense(units=10))\n",
        "\n",
        "#     Accuracy_student = train_and_evaluate(fc_model, compute_student_loss)\n",
        "#     fc_model.save('fc_model_alpha'+str(ALPHA)+\"_temperature\"+str(DISTILLATION_TEMPERATURE)+'.h5')\n",
        "#     All_Accuracy_student.append(Accuracy_student)"
      ],
      "metadata": {
        "id": "f5gJfpqiO_Zk"
      },
      "execution_count": null,
      "outputs": []
    },
    {
      "cell_type": "code",
      "source": [
        "ALPHA_spectrum = [0.] # task balance between cross-entropy and distillation loss\n",
        "DISTILLATION_TEMPERATURE_spectrum = [16.,32.,64.] #temperature hyperparameter\n",
        "All_Accuracy_student=[]\n",
        "\n",
        "for ALPHA in ALPHA_spectrum:\n",
        "  print(\"\\n\")\n",
        "  print(\"-------- with alpha of \", ALPHA,\"------------\")\n",
        "  for DISTILLATION_TEMPERATURE in DISTILLATION_TEMPERATURE_spectrum:\n",
        "    print(\"Alpha (\", ALPHA, \") and temperature of \", DISTILLATION_TEMPERATURE)\n",
        "    print('For the student model, we have the accuracy per epochs of:')\n",
        "    \n",
        "    fc_model = tf.keras.Sequential()\n",
        "    fc_model.add(Flatten(input_shape=(28, 28, 1)))\n",
        "    fc_model.add(Dense(activation='relu', units=784, input_shape=(28, 28, 1)))\n",
        "    fc_model.add(Dense(activation='relu', units=784))\n",
        "    fc_model.add(Dense(units=10))\n",
        "\n",
        "    Accuracy_student = train_and_evaluate(fc_model, compute_student_loss)\n",
        "    fc_model.save('fc_model_alpha'+str(ALPHA)+\"_temperature\"+str(DISTILLATION_TEMPERATURE)+'.h5')\n",
        "    All_Accuracy_student.append(Accuracy_student)"
      ],
      "metadata": {
        "colab": {
          "base_uri": "https://localhost:8080/"
        },
        "id": "wrxh5yHu6wVo",
        "outputId": "caae09e5-9894-4d71-abec-db5955eaa313"
      },
      "execution_count": null,
      "outputs": [
        {
          "output_type": "stream",
          "name": "stdout",
          "text": [
            "\n",
            "\n",
            "-------- with alpha of  0.0 ------------\n",
            "Alpha ( 0.0 ) and temperature of  16.0\n",
            "For the student model, we have the accuracy per epochs of:\n",
            "Epoch 1: Class_accuracy: 96.64%\n",
            "Epoch 2: Class_accuracy: 97.10%\n",
            "Epoch 3: Class_accuracy: 97.93%\n",
            "Epoch 4: Class_accuracy: 98.06%\n",
            "Epoch 5: Class_accuracy: 97.83%\n",
            "Epoch 6: Class_accuracy: 97.74%\n",
            "Epoch 7: Class_accuracy: 98.02%\n",
            "Epoch 8: Class_accuracy: 98.20%\n",
            "Epoch 9: Class_accuracy: 97.84%\n",
            "Epoch 10: Class_accuracy: 98.16%\n",
            "Epoch 11: Class_accuracy: 97.93%\n",
            "Epoch 12: Class_accuracy: 98.21%\n",
            "WARNING:tensorflow:Compiled the loaded model, but the compiled metrics have yet to be built. `model.compile_metrics` will be empty until you train or evaluate the model.\n"
          ]
        },
        {
          "output_type": "stream",
          "name": "stderr",
          "text": [
            "WARNING:tensorflow:Compiled the loaded model, but the compiled metrics have yet to be built. `model.compile_metrics` will be empty until you train or evaluate the model.\n"
          ]
        },
        {
          "output_type": "stream",
          "name": "stdout",
          "text": [
            "Alpha ( 0.0 ) and temperature of  32.0\n",
            "For the student model, we have the accuracy per epochs of:\n",
            "Epoch 1: Class_accuracy: 96.91%\n",
            "Epoch 2: Class_accuracy: 97.56%\n",
            "Epoch 3: Class_accuracy: 97.63%\n",
            "Epoch 4: Class_accuracy: 97.65%\n",
            "Epoch 5: Class_accuracy: 97.94%\n",
            "Epoch 6: Class_accuracy: 97.80%\n",
            "Epoch 7: Class_accuracy: 97.82%\n",
            "Epoch 8: Class_accuracy: 98.01%\n",
            "Epoch 9: Class_accuracy: 97.69%\n",
            "Epoch 10: Class_accuracy: 97.98%\n",
            "Epoch 11: Class_accuracy: 98.10%\n",
            "Epoch 12: Class_accuracy: 97.77%\n",
            "WARNING:tensorflow:Compiled the loaded model, but the compiled metrics have yet to be built. `model.compile_metrics` will be empty until you train or evaluate the model.\n"
          ]
        },
        {
          "output_type": "stream",
          "name": "stderr",
          "text": [
            "WARNING:tensorflow:Compiled the loaded model, but the compiled metrics have yet to be built. `model.compile_metrics` will be empty until you train or evaluate the model.\n"
          ]
        },
        {
          "output_type": "stream",
          "name": "stdout",
          "text": [
            "Alpha ( 0.0 ) and temperature of  64.0\n",
            "For the student model, we have the accuracy per epochs of:\n",
            "Epoch 1: Class_accuracy: 96.70%\n",
            "Epoch 2: Class_accuracy: 97.40%\n",
            "Epoch 3: Class_accuracy: 97.82%\n",
            "Epoch 4: Class_accuracy: 97.77%\n",
            "Epoch 5: Class_accuracy: 98.12%\n",
            "Epoch 6: Class_accuracy: 97.96%\n",
            "Epoch 7: Class_accuracy: 98.19%\n",
            "Epoch 8: Class_accuracy: 98.10%\n",
            "Epoch 9: Class_accuracy: 98.05%\n",
            "Epoch 10: Class_accuracy: 98.10%\n",
            "Epoch 11: Class_accuracy: 98.01%\n",
            "Epoch 12: Class_accuracy: 98.23%\n",
            "WARNING:tensorflow:Compiled the loaded model, but the compiled metrics have yet to be built. `model.compile_metrics` will be empty until you train or evaluate the model.\n"
          ]
        },
        {
          "output_type": "stream",
          "name": "stderr",
          "text": [
            "WARNING:tensorflow:Compiled the loaded model, but the compiled metrics have yet to be built. `model.compile_metrics` will be empty until you train or evaluate the model.\n"
          ]
        }
      ]
    },
    {
      "cell_type": "code",
      "source": [
        "# #ALPHA_spectrum = [0.,0.2,0.5,0.8] # task balance between cross-entropy and distillation loss\n",
        "# DISTILLATION_TEMPERATURE_spectrum = [1.,2.,4.,16.,32.,64.] #temperature hyperparameter\n",
        "# Accuracy_student_0=[]\n",
        "\n",
        "# #for ALPHA in ALPHA_spectrum:\n",
        "# ALPHA=0.\n",
        "# print(\"\\n\")\n",
        "# print(\"-------- with alpha of \", ALPHA,\"------------\")\n",
        "# for DISTILLATION_TEMPERATURE in DISTILLATION_TEMPERATURE_spectrum:\n",
        "#   print(\"Alpha (\", ALPHA, \") and temperature of \", DISTILLATION_TEMPERATURE)\n",
        "#   print('For the student model, we have the accuracy per epochs of:')\n",
        "  \n",
        "#   fc_model = tf.keras.Sequential()\n",
        "#   fc_model.add(Flatten(input_shape=(28, 28, 1)))\n",
        "#   fc_model.add(Dense(activation='relu', units=784, input_shape=(28, 28, 1)))\n",
        "#   fc_model.add(Dense(activation='relu', units=784))\n",
        "#   fc_model.add(Dense(units=10))\n",
        "\n",
        "#   Accuracy_student = train_and_evaluate(fc_model, compute_student_loss)\n",
        "#   fc_model.save('fc_model_alpha'+str(ALPHA)+\"_temperature\"+str(DISTILLATION_TEMPERATURE)+'.h5')\n",
        "#   Accuracy_student_0.append(Accuracy_student)"
      ],
      "metadata": {
        "id": "joaP4P-EzCcL"
      },
      "execution_count": null,
      "outputs": []
    },
    {
      "cell_type": "code",
      "source": [
        "# ALPHA_spectrum = [0.,0.2,0.5,0.8] # task balance between cross-entropy and distillation loss\n",
        "DISTILLATION_TEMPERATURE_spectrum = [1.,2.,4.,16.,32.,64.] #temperature hyperparameter\n",
        "Accuracy_student_02=[]\n",
        "\n",
        "# for ALPHA in ALPHA_spectrum:\n",
        "ALPHA=0.2\n",
        "print(\"\\n\")\n",
        "print(\"-------- with alpha of \", ALPHA,\"------------\")\n",
        "for DISTILLATION_TEMPERATURE in DISTILLATION_TEMPERATURE_spectrum:\n",
        "  print(\"Alpha (\", ALPHA, \") and temperature of \", DISTILLATION_TEMPERATURE)\n",
        "  print('For the student model, we have the accuracy per epochs of:')\n",
        "  \n",
        "  fc_model = tf.keras.Sequential()\n",
        "  fc_model.add(Flatten(input_shape=(28, 28, 1)))\n",
        "  fc_model.add(Dense(activation='relu', units=784, input_shape=(28, 28, 1)))\n",
        "  fc_model.add(Dense(activation='relu', units=784))\n",
        "  fc_model.add(Dense(units=10))\n",
        "\n",
        "  Accuracy_student = train_and_evaluate(fc_model, compute_student_loss)\n",
        "  fc_model.save('fc_model_alpha'+str(ALPHA)+\"_temperature\"+str(DISTILLATION_TEMPERATURE)+'.h5')\n",
        "  Accuracy_student_02.append(Accuracy_student)"
      ],
      "metadata": {
        "colab": {
          "base_uri": "https://localhost:8080/"
        },
        "id": "hkcEmHQFzgiu",
        "outputId": "80d38ae4-5073-4f51-c3af-240ecb03195d"
      },
      "execution_count": null,
      "outputs": [
        {
          "output_type": "stream",
          "name": "stdout",
          "text": [
            "\n",
            "\n",
            "-------- with alpha of  0.2 ------------\n",
            "Alpha ( 0.2 ) and temperature of  1.0\n",
            "For the student model, we have the accuracy per epochs of:\n",
            "Epoch 1: Class_accuracy: 96.10%\n",
            "Epoch 2: Class_accuracy: 97.05%\n",
            "Epoch 3: Class_accuracy: 97.74%\n",
            "Epoch 4: Class_accuracy: 98.16%\n",
            "Epoch 5: Class_accuracy: 98.22%\n",
            "Epoch 6: Class_accuracy: 97.94%\n",
            "Epoch 7: Class_accuracy: 98.09%\n",
            "Epoch 8: Class_accuracy: 98.32%\n",
            "Epoch 9: Class_accuracy: 98.08%\n",
            "Epoch 10: Class_accuracy: 98.01%\n",
            "Epoch 11: Class_accuracy: 98.30%\n",
            "Epoch 12: Class_accuracy: 98.23%\n",
            "WARNING:tensorflow:Compiled the loaded model, but the compiled metrics have yet to be built. `model.compile_metrics` will be empty until you train or evaluate the model.\n"
          ]
        },
        {
          "output_type": "stream",
          "name": "stderr",
          "text": [
            "WARNING:tensorflow:Compiled the loaded model, but the compiled metrics have yet to be built. `model.compile_metrics` will be empty until you train or evaluate the model.\n"
          ]
        },
        {
          "output_type": "stream",
          "name": "stdout",
          "text": [
            "Alpha ( 0.2 ) and temperature of  2.0\n",
            "For the student model, we have the accuracy per epochs of:\n",
            "Epoch 1: Class_accuracy: 96.17%\n",
            "Epoch 2: Class_accuracy: 97.47%\n",
            "Epoch 3: Class_accuracy: 97.86%\n",
            "Epoch 4: Class_accuracy: 98.09%\n",
            "Epoch 5: Class_accuracy: 98.14%\n",
            "Epoch 6: Class_accuracy: 98.10%\n",
            "Epoch 7: Class_accuracy: 98.45%\n",
            "Epoch 8: Class_accuracy: 98.44%\n",
            "Epoch 9: Class_accuracy: 98.49%\n",
            "Epoch 10: Class_accuracy: 98.49%\n",
            "Epoch 11: Class_accuracy: 98.62%\n",
            "Epoch 12: Class_accuracy: 98.41%\n",
            "WARNING:tensorflow:Compiled the loaded model, but the compiled metrics have yet to be built. `model.compile_metrics` will be empty until you train or evaluate the model.\n"
          ]
        },
        {
          "output_type": "stream",
          "name": "stderr",
          "text": [
            "WARNING:tensorflow:Compiled the loaded model, but the compiled metrics have yet to be built. `model.compile_metrics` will be empty until you train or evaluate the model.\n"
          ]
        },
        {
          "output_type": "stream",
          "name": "stdout",
          "text": [
            "Alpha ( 0.2 ) and temperature of  4.0\n",
            "For the student model, we have the accuracy per epochs of:\n",
            "Epoch 1: Class_accuracy: 96.85%\n",
            "Epoch 2: Class_accuracy: 97.77%\n",
            "Epoch 3: Class_accuracy: 98.26%\n",
            "Epoch 4: Class_accuracy: 98.44%\n",
            "Epoch 5: Class_accuracy: 98.48%\n",
            "Epoch 6: Class_accuracy: 98.61%\n",
            "Epoch 7: Class_accuracy: 98.64%\n",
            "Epoch 8: Class_accuracy: 98.69%\n",
            "Epoch 9: Class_accuracy: 98.66%\n",
            "Epoch 10: Class_accuracy: 98.75%\n",
            "Epoch 11: Class_accuracy: 98.81%\n",
            "Epoch 12: Class_accuracy: 98.76%\n",
            "WARNING:tensorflow:Compiled the loaded model, but the compiled metrics have yet to be built. `model.compile_metrics` will be empty until you train or evaluate the model.\n"
          ]
        },
        {
          "output_type": "stream",
          "name": "stderr",
          "text": [
            "WARNING:tensorflow:Compiled the loaded model, but the compiled metrics have yet to be built. `model.compile_metrics` will be empty until you train or evaluate the model.\n"
          ]
        },
        {
          "output_type": "stream",
          "name": "stdout",
          "text": [
            "Alpha ( 0.2 ) and temperature of  16.0\n",
            "For the student model, we have the accuracy per epochs of:\n",
            "Epoch 1: Class_accuracy: 96.94%\n",
            "Epoch 2: Class_accuracy: 97.85%\n",
            "Epoch 3: Class_accuracy: 98.33%\n",
            "Epoch 4: Class_accuracy: 98.49%\n",
            "Epoch 5: Class_accuracy: 98.49%\n",
            "Epoch 6: Class_accuracy: 98.56%\n",
            "Epoch 7: Class_accuracy: 98.67%\n",
            "Epoch 8: Class_accuracy: 98.72%\n",
            "Epoch 9: Class_accuracy: 98.78%\n",
            "Epoch 10: Class_accuracy: 98.74%\n",
            "Epoch 11: Class_accuracy: 98.84%\n",
            "Epoch 12: Class_accuracy: 98.74%\n",
            "WARNING:tensorflow:Compiled the loaded model, but the compiled metrics have yet to be built. `model.compile_metrics` will be empty until you train or evaluate the model.\n"
          ]
        },
        {
          "output_type": "stream",
          "name": "stderr",
          "text": [
            "WARNING:tensorflow:Compiled the loaded model, but the compiled metrics have yet to be built. `model.compile_metrics` will be empty until you train or evaluate the model.\n"
          ]
        },
        {
          "output_type": "stream",
          "name": "stdout",
          "text": [
            "Alpha ( 0.2 ) and temperature of  32.0\n",
            "For the student model, we have the accuracy per epochs of:\n",
            "Epoch 1: Class_accuracy: 97.05%\n",
            "Epoch 2: Class_accuracy: 97.99%\n",
            "Epoch 3: Class_accuracy: 98.35%\n",
            "Epoch 4: Class_accuracy: 98.59%\n",
            "Epoch 5: Class_accuracy: 98.70%\n",
            "Epoch 6: Class_accuracy: 98.76%\n",
            "Epoch 7: Class_accuracy: 98.70%\n",
            "Epoch 8: Class_accuracy: 98.83%\n",
            "Epoch 9: Class_accuracy: 98.71%\n",
            "Epoch 10: Class_accuracy: 98.85%\n",
            "Epoch 11: Class_accuracy: 98.80%\n",
            "Epoch 12: Class_accuracy: 98.90%\n",
            "WARNING:tensorflow:Compiled the loaded model, but the compiled metrics have yet to be built. `model.compile_metrics` will be empty until you train or evaluate the model.\n"
          ]
        },
        {
          "output_type": "stream",
          "name": "stderr",
          "text": [
            "WARNING:tensorflow:Compiled the loaded model, but the compiled metrics have yet to be built. `model.compile_metrics` will be empty until you train or evaluate the model.\n"
          ]
        },
        {
          "output_type": "stream",
          "name": "stdout",
          "text": [
            "Alpha ( 0.2 ) and temperature of  64.0\n",
            "For the student model, we have the accuracy per epochs of:\n",
            "Epoch 1: Class_accuracy: 97.05%\n",
            "Epoch 2: Class_accuracy: 97.96%\n",
            "Epoch 3: Class_accuracy: 98.40%\n",
            "Epoch 4: Class_accuracy: 98.54%\n",
            "Epoch 5: Class_accuracy: 98.60%\n",
            "Epoch 6: Class_accuracy: 98.64%\n",
            "Epoch 7: Class_accuracy: 98.74%\n",
            "Epoch 8: Class_accuracy: 98.73%\n",
            "Epoch 9: Class_accuracy: 98.81%\n",
            "Epoch 10: Class_accuracy: 98.79%\n",
            "Epoch 11: Class_accuracy: 98.83%\n",
            "Epoch 12: Class_accuracy: 98.91%\n",
            "WARNING:tensorflow:Compiled the loaded model, but the compiled metrics have yet to be built. `model.compile_metrics` will be empty until you train or evaluate the model.\n"
          ]
        },
        {
          "output_type": "stream",
          "name": "stderr",
          "text": [
            "WARNING:tensorflow:Compiled the loaded model, but the compiled metrics have yet to be built. `model.compile_metrics` will be empty until you train or evaluate the model.\n"
          ]
        }
      ]
    },
    {
      "cell_type": "code",
      "source": [
        "Accuracy_student_02"
      ],
      "metadata": {
        "colab": {
          "base_uri": "https://localhost:8080/"
        },
        "id": "PBC3cdgYAYf2",
        "outputId": "6fb5fe04-34da-45d2-d6d3-2b3810d726f2"
      },
      "execution_count": null,
      "outputs": [
        {
          "output_type": "execute_result",
          "data": {
            "text/plain": [
              "[<tf.Tensor: shape=(), dtype=float32, numpy=98.229996>,\n",
              " <tf.Tensor: shape=(), dtype=float32, numpy=98.409996>,\n",
              " <tf.Tensor: shape=(), dtype=float32, numpy=98.76>,\n",
              " <tf.Tensor: shape=(), dtype=float32, numpy=98.74>,\n",
              " <tf.Tensor: shape=(), dtype=float32, numpy=98.9>,\n",
              " <tf.Tensor: shape=(), dtype=float32, numpy=98.909996>]"
            ]
          },
          "metadata": {},
          "execution_count": 18
        }
      ]
    },
    {
      "cell_type": "code",
      "source": [
        "# ALPHA_spectrum = [0.,0.2,0.5,0.8] # task balance between cross-entropy and distillation loss\n",
        "DISTILLATION_TEMPERATURE_spectrum = [1.,2.,4.,16.,32.,64.] #temperature hyperparameter\n",
        "Accuracy_student_05=[]\n",
        "\n",
        "# for ALPHAin ALPHA_spectrum:\n",
        "ALPHA=0.5\n",
        "print(\"\\n\")\n",
        "print(\"-------- with alpha of \", ALPHA,\"------------\")\n",
        "for DISTILLATION_TEMPERATURE in DISTILLATION_TEMPERATURE_spectrum:\n",
        "  print(\"Alpha (\", ALPHA, \") and temperature of \", DISTILLATION_TEMPERATURE)\n",
        "  print('For the student model, we have the accuracy per epochs of:')\n",
        "  \n",
        "  fc_model = tf.keras.Sequential()\n",
        "  fc_model.add(Flatten(input_shape=(28, 28, 1)))\n",
        "  fc_model.add(Dense(activation='relu', units=784, input_shape=(28, 28, 1)))\n",
        "  fc_model.add(Dense(activation='relu', units=784))\n",
        "  fc_model.add(Dense(units=10))\n",
        "\n",
        "  Accuracy_student = train_and_evaluate(fc_model, compute_student_loss)\n",
        "  fc_model.save('fc_model_alpha'+str(ALPHA)+\"_temperature\"+str(DISTILLATION_TEMPERATURE)+'.h5')\n",
        "  Accuracy_student_05.append(Accuracy_student)"
      ],
      "metadata": {
        "colab": {
          "base_uri": "https://localhost:8080/"
        },
        "id": "dBB7qqX1zucY",
        "outputId": "8a5f1b9d-fe80-4377-e099-7adfa678ec37"
      },
      "execution_count": null,
      "outputs": [
        {
          "output_type": "stream",
          "name": "stdout",
          "text": [
            "\n",
            "\n",
            "-------- with alpha of  0.5 ------------\n",
            "Alpha ( 0.5 ) and temperature of  1.0\n",
            "For the student model, we have the accuracy per epochs of:\n",
            "Epoch 1: Class_accuracy: 96.87%\n",
            "Epoch 2: Class_accuracy: 97.51%\n",
            "Epoch 3: Class_accuracy: 97.59%\n",
            "Epoch 4: Class_accuracy: 98.19%\n",
            "Epoch 5: Class_accuracy: 97.97%\n",
            "Epoch 6: Class_accuracy: 97.91%\n",
            "Epoch 7: Class_accuracy: 98.39%\n",
            "Epoch 8: Class_accuracy: 98.27%\n",
            "Epoch 9: Class_accuracy: 98.31%\n",
            "Epoch 10: Class_accuracy: 98.39%\n",
            "Epoch 11: Class_accuracy: 98.39%\n",
            "Epoch 12: Class_accuracy: 98.23%\n",
            "WARNING:tensorflow:Compiled the loaded model, but the compiled metrics have yet to be built. `model.compile_metrics` will be empty until you train or evaluate the model.\n"
          ]
        },
        {
          "output_type": "stream",
          "name": "stderr",
          "text": [
            "WARNING:tensorflow:Compiled the loaded model, but the compiled metrics have yet to be built. `model.compile_metrics` will be empty until you train or evaluate the model.\n"
          ]
        },
        {
          "output_type": "stream",
          "name": "stdout",
          "text": [
            "Alpha ( 0.5 ) and temperature of  2.0\n",
            "For the student model, we have the accuracy per epochs of:\n",
            "Epoch 1: Class_accuracy: 96.57%\n",
            "Epoch 2: Class_accuracy: 97.62%\n",
            "Epoch 3: Class_accuracy: 97.97%\n",
            "Epoch 4: Class_accuracy: 97.99%\n",
            "Epoch 5: Class_accuracy: 98.18%\n",
            "Epoch 6: Class_accuracy: 98.25%\n",
            "Epoch 7: Class_accuracy: 98.40%\n",
            "Epoch 8: Class_accuracy: 98.49%\n",
            "Epoch 9: Class_accuracy: 98.46%\n",
            "Epoch 10: Class_accuracy: 98.60%\n",
            "Epoch 11: Class_accuracy: 98.53%\n",
            "Epoch 12: Class_accuracy: 98.51%\n",
            "WARNING:tensorflow:Compiled the loaded model, but the compiled metrics have yet to be built. `model.compile_metrics` will be empty until you train or evaluate the model.\n"
          ]
        },
        {
          "output_type": "stream",
          "name": "stderr",
          "text": [
            "WARNING:tensorflow:Compiled the loaded model, but the compiled metrics have yet to be built. `model.compile_metrics` will be empty until you train or evaluate the model.\n"
          ]
        },
        {
          "output_type": "stream",
          "name": "stdout",
          "text": [
            "Alpha ( 0.5 ) and temperature of  4.0\n",
            "For the student model, we have the accuracy per epochs of:\n",
            "Epoch 1: Class_accuracy: 96.72%\n",
            "Epoch 2: Class_accuracy: 97.99%\n",
            "Epoch 3: Class_accuracy: 98.22%\n",
            "Epoch 4: Class_accuracy: 98.52%\n",
            "Epoch 5: Class_accuracy: 98.59%\n",
            "Epoch 6: Class_accuracy: 98.73%\n",
            "Epoch 7: Class_accuracy: 98.70%\n",
            "Epoch 8: Class_accuracy: 98.79%\n",
            "Epoch 9: Class_accuracy: 98.78%\n",
            "Epoch 10: Class_accuracy: 98.78%\n",
            "Epoch 11: Class_accuracy: 98.82%\n",
            "Epoch 12: Class_accuracy: 98.82%\n",
            "WARNING:tensorflow:Compiled the loaded model, but the compiled metrics have yet to be built. `model.compile_metrics` will be empty until you train or evaluate the model.\n"
          ]
        },
        {
          "output_type": "stream",
          "name": "stderr",
          "text": [
            "WARNING:tensorflow:Compiled the loaded model, but the compiled metrics have yet to be built. `model.compile_metrics` will be empty until you train or evaluate the model.\n"
          ]
        },
        {
          "output_type": "stream",
          "name": "stdout",
          "text": [
            "Alpha ( 0.5 ) and temperature of  16.0\n",
            "For the student model, we have the accuracy per epochs of:\n",
            "Epoch 1: Class_accuracy: 96.78%\n",
            "Epoch 2: Class_accuracy: 97.91%\n",
            "Epoch 3: Class_accuracy: 98.12%\n",
            "Epoch 4: Class_accuracy: 98.52%\n",
            "Epoch 5: Class_accuracy: 98.61%\n",
            "Epoch 6: Class_accuracy: 98.64%\n",
            "Epoch 7: Class_accuracy: 98.66%\n",
            "Epoch 8: Class_accuracy: 98.77%\n",
            "Epoch 9: Class_accuracy: 98.75%\n",
            "Epoch 10: Class_accuracy: 98.81%\n",
            "Epoch 11: Class_accuracy: 98.80%\n",
            "Epoch 12: Class_accuracy: 98.81%\n",
            "WARNING:tensorflow:Compiled the loaded model, but the compiled metrics have yet to be built. `model.compile_metrics` will be empty until you train or evaluate the model.\n"
          ]
        },
        {
          "output_type": "stream",
          "name": "stderr",
          "text": [
            "WARNING:tensorflow:Compiled the loaded model, but the compiled metrics have yet to be built. `model.compile_metrics` will be empty until you train or evaluate the model.\n"
          ]
        },
        {
          "output_type": "stream",
          "name": "stdout",
          "text": [
            "Alpha ( 0.5 ) and temperature of  32.0\n",
            "For the student model, we have the accuracy per epochs of:\n",
            "Epoch 1: Class_accuracy: 96.73%\n",
            "Epoch 2: Class_accuracy: 97.92%\n",
            "Epoch 3: Class_accuracy: 98.36%\n",
            "Epoch 4: Class_accuracy: 98.52%\n",
            "Epoch 5: Class_accuracy: 98.55%\n",
            "Epoch 6: Class_accuracy: 98.74%\n",
            "Epoch 7: Class_accuracy: 98.68%\n",
            "Epoch 8: Class_accuracy: 98.74%\n",
            "Epoch 9: Class_accuracy: 98.80%\n",
            "Epoch 10: Class_accuracy: 98.75%\n",
            "Epoch 11: Class_accuracy: 98.81%\n",
            "Epoch 12: Class_accuracy: 98.81%\n",
            "WARNING:tensorflow:Compiled the loaded model, but the compiled metrics have yet to be built. `model.compile_metrics` will be empty until you train or evaluate the model.\n"
          ]
        },
        {
          "output_type": "stream",
          "name": "stderr",
          "text": [
            "WARNING:tensorflow:Compiled the loaded model, but the compiled metrics have yet to be built. `model.compile_metrics` will be empty until you train or evaluate the model.\n"
          ]
        },
        {
          "output_type": "stream",
          "name": "stdout",
          "text": [
            "Alpha ( 0.5 ) and temperature of  64.0\n",
            "For the student model, we have the accuracy per epochs of:\n",
            "Epoch 1: Class_accuracy: 96.94%\n",
            "Epoch 2: Class_accuracy: 98.06%\n",
            "Epoch 3: Class_accuracy: 98.37%\n",
            "Epoch 4: Class_accuracy: 98.55%\n",
            "Epoch 5: Class_accuracy: 98.59%\n",
            "Epoch 6: Class_accuracy: 98.73%\n",
            "Epoch 7: Class_accuracy: 98.77%\n",
            "Epoch 8: Class_accuracy: 98.72%\n",
            "Epoch 9: Class_accuracy: 98.87%\n",
            "Epoch 10: Class_accuracy: 98.84%\n",
            "Epoch 11: Class_accuracy: 98.86%\n",
            "Epoch 12: Class_accuracy: 98.85%\n",
            "WARNING:tensorflow:Compiled the loaded model, but the compiled metrics have yet to be built. `model.compile_metrics` will be empty until you train or evaluate the model.\n"
          ]
        },
        {
          "output_type": "stream",
          "name": "stderr",
          "text": [
            "WARNING:tensorflow:Compiled the loaded model, but the compiled metrics have yet to be built. `model.compile_metrics` will be empty until you train or evaluate the model.\n"
          ]
        }
      ]
    },
    {
      "cell_type": "code",
      "source": [
        "Accuracy_student_05"
      ],
      "metadata": {
        "colab": {
          "base_uri": "https://localhost:8080/"
        },
        "id": "nZDciyzPAOlg",
        "outputId": "f48ac466-5cd1-4b86-b900-dd040e1a31be"
      },
      "execution_count": null,
      "outputs": [
        {
          "output_type": "execute_result",
          "data": {
            "text/plain": [
              "[<tf.Tensor: shape=(), dtype=float32, numpy=98.229996>,\n",
              " <tf.Tensor: shape=(), dtype=float32, numpy=98.509995>,\n",
              " <tf.Tensor: shape=(), dtype=float32, numpy=98.82>,\n",
              " <tf.Tensor: shape=(), dtype=float32, numpy=98.81>,\n",
              " <tf.Tensor: shape=(), dtype=float32, numpy=98.81>,\n",
              " <tf.Tensor: shape=(), dtype=float32, numpy=98.85>]"
            ]
          },
          "metadata": {},
          "execution_count": 17
        }
      ]
    },
    {
      "cell_type": "code",
      "source": [
        "# ALPHA_spectrum = [0.,0.2,0.5,0.8] # task balance between cross-entropy and distillation loss\n",
        "DISTILLATION_TEMPERATURE_spectrum = [1.,2.,4.,16.,32.,64.] #temperature hyperparameter\n",
        "Accuracy_student_08=[]\n",
        "\n",
        "# for ALPHA in ALPHA_spectrum:\n",
        "ALPHA=0.8 \n",
        "print(\"\\n\")\n",
        "print(\"-------- with alpha of \", ALPHA,\"------------\")\n",
        "for DISTILLATION_TEMPERATURE in DISTILLATION_TEMPERATURE_spectrum:\n",
        "  print(\"Alpha (\", ALPHA, \") and temperature of \", DISTILLATION_TEMPERATURE)\n",
        "  print('For the student model, we have the accuracy per epochs of:')\n",
        "  \n",
        "  fc_model = tf.keras.Sequential()\n",
        "  fc_model.add(Flatten(input_shape=(28, 28, 1)))\n",
        "  fc_model.add(Dense(activation='relu', units=784, input_shape=(28, 28, 1)))\n",
        "  fc_model.add(Dense(activation='relu', units=784))\n",
        "  fc_model.add(Dense(units=10))\n",
        "\n",
        "  Accuracy_student = train_and_evaluate(fc_model, compute_student_loss)\n",
        "  fc_model.save('fc_model_alpha'+str(ALPHA)+\"_temperature\"+str(DISTILLATION_TEMPERATURE)+'.h5')\n",
        "  Accuracy_student_08.append(Accuracy_student)"
      ],
      "metadata": {
        "id": "K8bpFQghzvg5"
      },
      "execution_count": null,
      "outputs": []
    },
    {
      "cell_type": "code",
      "source": [
        "from google.colab import drive\n",
        "drive.mount('/content/drive')\n",
        "os.chdir(r'/content/drive/My Drive/KD')"
      ],
      "metadata": {
        "colab": {
          "base_uri": "https://localhost:8080/"
        },
        "id": "utXGPKX6ujOu",
        "outputId": "14711a15-af01-4dd1-bf95-e66f0dea0da0"
      },
      "execution_count": null,
      "outputs": [
        {
          "output_type": "stream",
          "name": "stdout",
          "text": [
            "Mounted at /content/drive\n"
          ]
        }
      ]
    },
    {
      "cell_type": "code",
      "source": [
        "ALPHA_spectrum = [0.,0.2,0.5,0.8] # task balance between cross-entropy and distillation loss\n",
        "DISTILLATION_TEMPERATURE_spectrum = [1.,2.,4.,16.,32.,64.] \n",
        "All_Accuracy_student=[]\n",
        "for ALPHA in ALPHA_spectrum:\n",
        "  print(\"\\n\")\n",
        "  print(\"-------- with alpha of \", ALPHA,\"------------\")\n",
        "  for DISTILLATION_TEMPERATURE in DISTILLATION_TEMPERATURE_spectrum:\n",
        "    model=load_model('fc_model_alpha'+str(ALPHA)+\"_temperature\"+str(DISTILLATION_TEMPERATURE)+'.h5')\n",
        "    num_correct = 0\n",
        "    num_total = builder.info.splits['test'].num_examples\n",
        "    for images, labels in mnist_test:\n",
        "      # your code start from here for step 4\n",
        "      num_correct += compute_num_correct(model, images, labels)[0]\n",
        "    Class_accuracy=num_correct / num_total * 100  \n",
        "    print('\\n')\n",
        "    print(\"Class_accuracy of \"+'fc_model with alpha of '+str(ALPHA)+\" and temperature of \"+str(DISTILLATION_TEMPERATURE) + 'is {:.2f}%'.format(\n",
        "        Class_accuracy))\n",
        "    print('\\n')\n",
        "    All_Accuracy_student.append(Class_accuracy)"
      ],
      "metadata": {
        "colab": {
          "base_uri": "https://localhost:8080/"
        },
        "id": "g9Hmd3aeuckc",
        "outputId": "75ab208d-a2f3-4c8b-db8e-851c6b33cb92"
      },
      "execution_count": null,
      "outputs": [
        {
          "output_type": "stream",
          "name": "stdout",
          "text": [
            "\n",
            "\n",
            "-------- with alpha of  0.0 ------------\n",
            "WARNING:tensorflow:No training configuration found in the save file, so the model was *not* compiled. Compile it manually.\n"
          ]
        },
        {
          "output_type": "stream",
          "name": "stderr",
          "text": [
            "WARNING:tensorflow:No training configuration found in the save file, so the model was *not* compiled. Compile it manually.\n"
          ]
        },
        {
          "output_type": "stream",
          "name": "stdout",
          "text": [
            "\n",
            "\n",
            "Class_accuracy of fc_model with alpha of 0.0 and temperature of 1.0is 98.84%\n",
            "\n",
            "\n",
            "WARNING:tensorflow:No training configuration found in the save file, so the model was *not* compiled. Compile it manually.\n"
          ]
        },
        {
          "output_type": "stream",
          "name": "stderr",
          "text": [
            "WARNING:tensorflow:No training configuration found in the save file, so the model was *not* compiled. Compile it manually.\n"
          ]
        },
        {
          "output_type": "stream",
          "name": "stdout",
          "text": [
            "\n",
            "\n",
            "Class_accuracy of fc_model with alpha of 0.0 and temperature of 2.0is 98.86%\n",
            "\n",
            "\n",
            "WARNING:tensorflow:No training configuration found in the save file, so the model was *not* compiled. Compile it manually.\n"
          ]
        },
        {
          "output_type": "stream",
          "name": "stderr",
          "text": [
            "WARNING:tensorflow:No training configuration found in the save file, so the model was *not* compiled. Compile it manually.\n"
          ]
        },
        {
          "output_type": "stream",
          "name": "stdout",
          "text": [
            "\n",
            "\n",
            "Class_accuracy of fc_model with alpha of 0.0 and temperature of 4.0is 98.69%\n",
            "\n",
            "\n",
            "WARNING:tensorflow:No training configuration found in the save file, so the model was *not* compiled. Compile it manually.\n"
          ]
        },
        {
          "output_type": "stream",
          "name": "stderr",
          "text": [
            "WARNING:tensorflow:No training configuration found in the save file, so the model was *not* compiled. Compile it manually.\n"
          ]
        },
        {
          "output_type": "stream",
          "name": "stdout",
          "text": [
            "\n",
            "\n",
            "Class_accuracy of fc_model with alpha of 0.0 and temperature of 16.0is 98.87%\n",
            "\n",
            "\n",
            "WARNING:tensorflow:No training configuration found in the save file, so the model was *not* compiled. Compile it manually.\n"
          ]
        },
        {
          "output_type": "stream",
          "name": "stderr",
          "text": [
            "WARNING:tensorflow:No training configuration found in the save file, so the model was *not* compiled. Compile it manually.\n"
          ]
        },
        {
          "output_type": "stream",
          "name": "stdout",
          "text": [
            "\n",
            "\n",
            "Class_accuracy of fc_model with alpha of 0.0 and temperature of 32.0is 98.70%\n",
            "\n",
            "\n",
            "WARNING:tensorflow:No training configuration found in the save file, so the model was *not* compiled. Compile it manually.\n"
          ]
        },
        {
          "output_type": "stream",
          "name": "stderr",
          "text": [
            "WARNING:tensorflow:No training configuration found in the save file, so the model was *not* compiled. Compile it manually.\n"
          ]
        },
        {
          "output_type": "stream",
          "name": "stdout",
          "text": [
            "\n",
            "\n",
            "Class_accuracy of fc_model with alpha of 0.0 and temperature of 64.0is 98.72%\n",
            "\n",
            "\n",
            "\n",
            "\n",
            "-------- with alpha of  0.2 ------------\n",
            "WARNING:tensorflow:No training configuration found in the save file, so the model was *not* compiled. Compile it manually.\n"
          ]
        },
        {
          "output_type": "stream",
          "name": "stderr",
          "text": [
            "WARNING:tensorflow:No training configuration found in the save file, so the model was *not* compiled. Compile it manually.\n"
          ]
        },
        {
          "output_type": "stream",
          "name": "stdout",
          "text": [
            "\n",
            "\n",
            "Class_accuracy of fc_model with alpha of 0.2 and temperature of 1.0is 98.84%\n",
            "\n",
            "\n",
            "WARNING:tensorflow:No training configuration found in the save file, so the model was *not* compiled. Compile it manually.\n"
          ]
        },
        {
          "output_type": "stream",
          "name": "stderr",
          "text": [
            "WARNING:tensorflow:No training configuration found in the save file, so the model was *not* compiled. Compile it manually.\n"
          ]
        },
        {
          "output_type": "stream",
          "name": "stdout",
          "text": [
            "\n",
            "\n",
            "Class_accuracy of fc_model with alpha of 0.2 and temperature of 2.0is 98.94%\n",
            "\n",
            "\n",
            "WARNING:tensorflow:No training configuration found in the save file, so the model was *not* compiled. Compile it manually.\n"
          ]
        },
        {
          "output_type": "stream",
          "name": "stderr",
          "text": [
            "WARNING:tensorflow:No training configuration found in the save file, so the model was *not* compiled. Compile it manually.\n"
          ]
        },
        {
          "output_type": "stream",
          "name": "stdout",
          "text": [
            "\n",
            "\n",
            "Class_accuracy of fc_model with alpha of 0.2 and temperature of 4.0is 99.22%\n",
            "\n",
            "\n",
            "WARNING:tensorflow:No training configuration found in the save file, so the model was *not* compiled. Compile it manually.\n"
          ]
        },
        {
          "output_type": "stream",
          "name": "stderr",
          "text": [
            "WARNING:tensorflow:No training configuration found in the save file, so the model was *not* compiled. Compile it manually.\n"
          ]
        },
        {
          "output_type": "stream",
          "name": "stdout",
          "text": [
            "\n",
            "\n",
            "Class_accuracy of fc_model with alpha of 0.2 and temperature of 16.0is 99.15%\n",
            "\n",
            "\n",
            "WARNING:tensorflow:No training configuration found in the save file, so the model was *not* compiled. Compile it manually.\n"
          ]
        },
        {
          "output_type": "stream",
          "name": "stderr",
          "text": [
            "WARNING:tensorflow:No training configuration found in the save file, so the model was *not* compiled. Compile it manually.\n"
          ]
        },
        {
          "output_type": "stream",
          "name": "stdout",
          "text": [
            "\n",
            "\n",
            "Class_accuracy of fc_model with alpha of 0.2 and temperature of 32.0is 99.26%\n",
            "\n",
            "\n",
            "WARNING:tensorflow:No training configuration found in the save file, so the model was *not* compiled. Compile it manually.\n"
          ]
        },
        {
          "output_type": "stream",
          "name": "stderr",
          "text": [
            "WARNING:tensorflow:No training configuration found in the save file, so the model was *not* compiled. Compile it manually.\n"
          ]
        },
        {
          "output_type": "stream",
          "name": "stdout",
          "text": [
            "\n",
            "\n",
            "Class_accuracy of fc_model with alpha of 0.2 and temperature of 64.0is 99.25%\n",
            "\n",
            "\n",
            "\n",
            "\n",
            "-------- with alpha of  0.5 ------------\n",
            "WARNING:tensorflow:No training configuration found in the save file, so the model was *not* compiled. Compile it manually.\n"
          ]
        },
        {
          "output_type": "stream",
          "name": "stderr",
          "text": [
            "WARNING:tensorflow:No training configuration found in the save file, so the model was *not* compiled. Compile it manually.\n"
          ]
        },
        {
          "output_type": "stream",
          "name": "stdout",
          "text": [
            "\n",
            "\n",
            "Class_accuracy of fc_model with alpha of 0.5 and temperature of 1.0is 98.88%\n",
            "\n",
            "\n",
            "WARNING:tensorflow:No training configuration found in the save file, so the model was *not* compiled. Compile it manually.\n"
          ]
        },
        {
          "output_type": "stream",
          "name": "stderr",
          "text": [
            "WARNING:tensorflow:No training configuration found in the save file, so the model was *not* compiled. Compile it manually.\n"
          ]
        },
        {
          "output_type": "stream",
          "name": "stdout",
          "text": [
            "\n",
            "\n",
            "Class_accuracy of fc_model with alpha of 0.5 and temperature of 2.0is 99.01%\n",
            "\n",
            "\n",
            "WARNING:tensorflow:No training configuration found in the save file, so the model was *not* compiled. Compile it manually.\n"
          ]
        },
        {
          "output_type": "stream",
          "name": "stderr",
          "text": [
            "WARNING:tensorflow:No training configuration found in the save file, so the model was *not* compiled. Compile it manually.\n"
          ]
        },
        {
          "output_type": "stream",
          "name": "stdout",
          "text": [
            "\n",
            "\n",
            "Class_accuracy of fc_model with alpha of 0.5 and temperature of 4.0is 99.22%\n",
            "\n",
            "\n",
            "WARNING:tensorflow:No training configuration found in the save file, so the model was *not* compiled. Compile it manually.\n"
          ]
        },
        {
          "output_type": "stream",
          "name": "stderr",
          "text": [
            "WARNING:tensorflow:No training configuration found in the save file, so the model was *not* compiled. Compile it manually.\n"
          ]
        },
        {
          "output_type": "stream",
          "name": "stdout",
          "text": [
            "\n",
            "\n",
            "Class_accuracy of fc_model with alpha of 0.5 and temperature of 16.0is 99.15%\n",
            "\n",
            "\n",
            "WARNING:tensorflow:No training configuration found in the save file, so the model was *not* compiled. Compile it manually.\n"
          ]
        },
        {
          "output_type": "stream",
          "name": "stderr",
          "text": [
            "WARNING:tensorflow:No training configuration found in the save file, so the model was *not* compiled. Compile it manually.\n"
          ]
        },
        {
          "output_type": "stream",
          "name": "stdout",
          "text": [
            "\n",
            "\n",
            "Class_accuracy of fc_model with alpha of 0.5 and temperature of 32.0is 99.20%\n",
            "\n",
            "\n",
            "WARNING:tensorflow:No training configuration found in the save file, so the model was *not* compiled. Compile it manually.\n"
          ]
        },
        {
          "output_type": "stream",
          "name": "stderr",
          "text": [
            "WARNING:tensorflow:No training configuration found in the save file, so the model was *not* compiled. Compile it manually.\n"
          ]
        },
        {
          "output_type": "stream",
          "name": "stdout",
          "text": [
            "\n",
            "\n",
            "Class_accuracy of fc_model with alpha of 0.5 and temperature of 64.0is 99.24%\n",
            "\n",
            "\n",
            "\n",
            "\n",
            "-------- with alpha of  0.8 ------------\n",
            "WARNING:tensorflow:No training configuration found in the save file, so the model was *not* compiled. Compile it manually.\n"
          ]
        },
        {
          "output_type": "stream",
          "name": "stderr",
          "text": [
            "WARNING:tensorflow:No training configuration found in the save file, so the model was *not* compiled. Compile it manually.\n"
          ]
        },
        {
          "output_type": "stream",
          "name": "stdout",
          "text": [
            "\n",
            "\n",
            "Class_accuracy of fc_model with alpha of 0.8 and temperature of 1.0is 98.87%\n",
            "\n",
            "\n",
            "WARNING:tensorflow:No training configuration found in the save file, so the model was *not* compiled. Compile it manually.\n"
          ]
        },
        {
          "output_type": "stream",
          "name": "stderr",
          "text": [
            "WARNING:tensorflow:No training configuration found in the save file, so the model was *not* compiled. Compile it manually.\n"
          ]
        },
        {
          "output_type": "stream",
          "name": "stdout",
          "text": [
            "\n",
            "\n",
            "Class_accuracy of fc_model with alpha of 0.8 and temperature of 2.0is 99.07%\n",
            "\n",
            "\n",
            "WARNING:tensorflow:No training configuration found in the save file, so the model was *not* compiled. Compile it manually.\n"
          ]
        },
        {
          "output_type": "stream",
          "name": "stderr",
          "text": [
            "WARNING:tensorflow:No training configuration found in the save file, so the model was *not* compiled. Compile it manually.\n"
          ]
        },
        {
          "output_type": "stream",
          "name": "stdout",
          "text": [
            "\n",
            "\n",
            "Class_accuracy of fc_model with alpha of 0.8 and temperature of 4.0is 99.18%\n",
            "\n",
            "\n",
            "WARNING:tensorflow:No training configuration found in the save file, so the model was *not* compiled. Compile it manually.\n"
          ]
        },
        {
          "output_type": "stream",
          "name": "stderr",
          "text": [
            "WARNING:tensorflow:No training configuration found in the save file, so the model was *not* compiled. Compile it manually.\n"
          ]
        },
        {
          "output_type": "stream",
          "name": "stdout",
          "text": [
            "\n",
            "\n",
            "Class_accuracy of fc_model with alpha of 0.8 and temperature of 16.0is 99.14%\n",
            "\n",
            "\n",
            "WARNING:tensorflow:No training configuration found in the save file, so the model was *not* compiled. Compile it manually.\n"
          ]
        },
        {
          "output_type": "stream",
          "name": "stderr",
          "text": [
            "WARNING:tensorflow:No training configuration found in the save file, so the model was *not* compiled. Compile it manually.\n"
          ]
        },
        {
          "output_type": "stream",
          "name": "stdout",
          "text": [
            "\n",
            "\n",
            "Class_accuracy of fc_model with alpha of 0.8 and temperature of 32.0is 99.25%\n",
            "\n",
            "\n",
            "WARNING:tensorflow:No training configuration found in the save file, so the model was *not* compiled. Compile it manually.\n"
          ]
        },
        {
          "output_type": "stream",
          "name": "stderr",
          "text": [
            "WARNING:tensorflow:No training configuration found in the save file, so the model was *not* compiled. Compile it manually.\n"
          ]
        },
        {
          "output_type": "stream",
          "name": "stdout",
          "text": [
            "\n",
            "\n",
            "Class_accuracy of fc_model with alpha of 0.8 and temperature of 64.0is 99.17%\n",
            "\n",
            "\n"
          ]
        }
      ]
    },
    {
      "cell_type": "code",
      "source": [
        "ALPHA_spectrum = [0.,0.2,0.5,0.8] # task balance between cross-entropy and distillation loss\n",
        "DISTILLATION_TEMPERATURE_spectrum = [1.,2.,4.,16.,32.,64.] \n",
        "All_Accuracy_student=[]\n",
        "for ALPHA in ALPHA_spectrum:\n",
        "  print(\"\\n\")\n",
        "  print(\"-------- with alpha of \", ALPHA,\"------------\")\n",
        "  for DISTILLATION_TEMPERATURE in DISTILLATION_TEMPERATURE_spectrum:\n",
        "    model=load_model('fc_model_alpha'+str(ALPHA)+\"_temperature\"+str(DISTILLATION_TEMPERATURE)+'.h5')\n",
        "    num_correct = 0\n",
        "    num_total = builder.info.splits['test'].num_examples\n",
        "    for images, labels in mnist_test:\n",
        "      # your code start from here for step 4\n",
        "      num_correct += compute_num_correct(model, images, labels)[0]\n",
        "    Class_accuracy=num_correct / num_total * 100  \n",
        "    print('\\n')\n",
        "    print(\"Class_accuracy of \"+'fc_model with alpha of '+str(ALPHA)+\" and temperature of \"+str(DISTILLATION_TEMPERATURE) + 'is {:.2f}%'.format(\n",
        "        Class_accuracy))\n",
        "    print('\\n')\n",
        "    All_Accuracy_student.append(Class_accuracy)"
      ],
      "metadata": {
        "colab": {
          "base_uri": "https://localhost:8080/"
        },
        "id": "p88WUedy-fO5",
        "outputId": "04ad5268-b269-4b71-ee9d-cbc8d3feae3a"
      },
      "execution_count": null,
      "outputs": [
        {
          "output_type": "stream",
          "name": "stdout",
          "text": [
            "\n",
            "\n",
            "-------- with alpha of  0.0 ------------\n",
            "WARNING:tensorflow:No training configuration found in the save file, so the model was *not* compiled. Compile it manually.\n"
          ]
        },
        {
          "output_type": "stream",
          "name": "stderr",
          "text": [
            "WARNING:tensorflow:No training configuration found in the save file, so the model was *not* compiled. Compile it manually.\n"
          ]
        },
        {
          "output_type": "stream",
          "name": "stdout",
          "text": [
            "\n",
            "\n",
            "Class_accuracy of fc_model with alpha of 0.0 and temperature of 1.0is 98.06%\n",
            "\n",
            "\n",
            "WARNING:tensorflow:No training configuration found in the save file, so the model was *not* compiled. Compile it manually.\n"
          ]
        },
        {
          "output_type": "stream",
          "name": "stderr",
          "text": [
            "WARNING:tensorflow:No training configuration found in the save file, so the model was *not* compiled. Compile it manually.\n"
          ]
        },
        {
          "output_type": "stream",
          "name": "stdout",
          "text": [
            "\n",
            "\n",
            "Class_accuracy of fc_model with alpha of 0.0 and temperature of 2.0is 98.20%\n",
            "\n",
            "\n",
            "WARNING:tensorflow:No training configuration found in the save file, so the model was *not* compiled. Compile it manually.\n"
          ]
        },
        {
          "output_type": "stream",
          "name": "stderr",
          "text": [
            "WARNING:tensorflow:No training configuration found in the save file, so the model was *not* compiled. Compile it manually.\n"
          ]
        },
        {
          "output_type": "stream",
          "name": "stdout",
          "text": [
            "\n",
            "\n",
            "Class_accuracy of fc_model with alpha of 0.0 and temperature of 4.0is 97.83%\n",
            "\n",
            "\n",
            "WARNING:tensorflow:No training configuration found in the save file, so the model was *not* compiled. Compile it manually.\n"
          ]
        },
        {
          "output_type": "stream",
          "name": "stderr",
          "text": [
            "WARNING:tensorflow:No training configuration found in the save file, so the model was *not* compiled. Compile it manually.\n"
          ]
        },
        {
          "output_type": "stream",
          "name": "stdout",
          "text": [
            "\n",
            "\n",
            "Class_accuracy of fc_model with alpha of 0.0 and temperature of 16.0is 98.21%\n",
            "\n",
            "\n",
            "WARNING:tensorflow:No training configuration found in the save file, so the model was *not* compiled. Compile it manually.\n"
          ]
        },
        {
          "output_type": "stream",
          "name": "stderr",
          "text": [
            "WARNING:tensorflow:No training configuration found in the save file, so the model was *not* compiled. Compile it manually.\n"
          ]
        },
        {
          "output_type": "stream",
          "name": "stdout",
          "text": [
            "\n",
            "\n",
            "Class_accuracy of fc_model with alpha of 0.0 and temperature of 32.0is 97.77%\n",
            "\n",
            "\n",
            "WARNING:tensorflow:No training configuration found in the save file, so the model was *not* compiled. Compile it manually.\n"
          ]
        },
        {
          "output_type": "stream",
          "name": "stderr",
          "text": [
            "WARNING:tensorflow:No training configuration found in the save file, so the model was *not* compiled. Compile it manually.\n"
          ]
        },
        {
          "output_type": "stream",
          "name": "stdout",
          "text": [
            "\n",
            "\n",
            "Class_accuracy of fc_model with alpha of 0.0 and temperature of 64.0is 98.23%\n",
            "\n",
            "\n",
            "\n",
            "\n",
            "-------- with alpha of  0.2 ------------\n",
            "WARNING:tensorflow:No training configuration found in the save file, so the model was *not* compiled. Compile it manually.\n"
          ]
        },
        {
          "output_type": "stream",
          "name": "stderr",
          "text": [
            "WARNING:tensorflow:No training configuration found in the save file, so the model was *not* compiled. Compile it manually.\n"
          ]
        },
        {
          "output_type": "stream",
          "name": "stdout",
          "text": [
            "\n",
            "\n",
            "Class_accuracy of fc_model with alpha of 0.2 and temperature of 1.0is 98.23%\n",
            "\n",
            "\n",
            "WARNING:tensorflow:No training configuration found in the save file, so the model was *not* compiled. Compile it manually.\n"
          ]
        },
        {
          "output_type": "stream",
          "name": "stderr",
          "text": [
            "WARNING:tensorflow:No training configuration found in the save file, so the model was *not* compiled. Compile it manually.\n"
          ]
        },
        {
          "output_type": "stream",
          "name": "stdout",
          "text": [
            "\n",
            "\n",
            "Class_accuracy of fc_model with alpha of 0.2 and temperature of 2.0is 98.41%\n",
            "\n",
            "\n",
            "WARNING:tensorflow:No training configuration found in the save file, so the model was *not* compiled. Compile it manually.\n"
          ]
        },
        {
          "output_type": "stream",
          "name": "stderr",
          "text": [
            "WARNING:tensorflow:No training configuration found in the save file, so the model was *not* compiled. Compile it manually.\n"
          ]
        },
        {
          "output_type": "stream",
          "name": "stdout",
          "text": [
            "\n",
            "\n",
            "Class_accuracy of fc_model with alpha of 0.2 and temperature of 4.0is 98.76%\n",
            "\n",
            "\n",
            "WARNING:tensorflow:No training configuration found in the save file, so the model was *not* compiled. Compile it manually.\n"
          ]
        },
        {
          "output_type": "stream",
          "name": "stderr",
          "text": [
            "WARNING:tensorflow:No training configuration found in the save file, so the model was *not* compiled. Compile it manually.\n"
          ]
        },
        {
          "output_type": "stream",
          "name": "stdout",
          "text": [
            "\n",
            "\n",
            "Class_accuracy of fc_model with alpha of 0.2 and temperature of 16.0is 98.74%\n",
            "\n",
            "\n",
            "WARNING:tensorflow:No training configuration found in the save file, so the model was *not* compiled. Compile it manually.\n"
          ]
        },
        {
          "output_type": "stream",
          "name": "stderr",
          "text": [
            "WARNING:tensorflow:No training configuration found in the save file, so the model was *not* compiled. Compile it manually.\n"
          ]
        },
        {
          "output_type": "stream",
          "name": "stdout",
          "text": [
            "\n",
            "\n",
            "Class_accuracy of fc_model with alpha of 0.2 and temperature of 32.0is 98.90%\n",
            "\n",
            "\n",
            "WARNING:tensorflow:No training configuration found in the save file, so the model was *not* compiled. Compile it manually.\n"
          ]
        },
        {
          "output_type": "stream",
          "name": "stderr",
          "text": [
            "WARNING:tensorflow:No training configuration found in the save file, so the model was *not* compiled. Compile it manually.\n"
          ]
        },
        {
          "output_type": "stream",
          "name": "stdout",
          "text": [
            "\n",
            "\n",
            "Class_accuracy of fc_model with alpha of 0.2 and temperature of 64.0is 98.91%\n",
            "\n",
            "\n",
            "\n",
            "\n",
            "-------- with alpha of  0.5 ------------\n",
            "WARNING:tensorflow:No training configuration found in the save file, so the model was *not* compiled. Compile it manually.\n"
          ]
        },
        {
          "output_type": "stream",
          "name": "stderr",
          "text": [
            "WARNING:tensorflow:No training configuration found in the save file, so the model was *not* compiled. Compile it manually.\n"
          ]
        },
        {
          "output_type": "stream",
          "name": "stdout",
          "text": [
            "\n",
            "\n",
            "Class_accuracy of fc_model with alpha of 0.5 and temperature of 1.0is 98.23%\n",
            "\n",
            "\n",
            "WARNING:tensorflow:No training configuration found in the save file, so the model was *not* compiled. Compile it manually.\n"
          ]
        },
        {
          "output_type": "stream",
          "name": "stderr",
          "text": [
            "WARNING:tensorflow:No training configuration found in the save file, so the model was *not* compiled. Compile it manually.\n"
          ]
        },
        {
          "output_type": "stream",
          "name": "stdout",
          "text": [
            "\n",
            "\n",
            "Class_accuracy of fc_model with alpha of 0.5 and temperature of 2.0is 98.51%\n",
            "\n",
            "\n",
            "WARNING:tensorflow:No training configuration found in the save file, so the model was *not* compiled. Compile it manually.\n"
          ]
        },
        {
          "output_type": "stream",
          "name": "stderr",
          "text": [
            "WARNING:tensorflow:No training configuration found in the save file, so the model was *not* compiled. Compile it manually.\n"
          ]
        },
        {
          "output_type": "stream",
          "name": "stdout",
          "text": [
            "\n",
            "\n",
            "Class_accuracy of fc_model with alpha of 0.5 and temperature of 4.0is 98.82%\n",
            "\n",
            "\n",
            "WARNING:tensorflow:No training configuration found in the save file, so the model was *not* compiled. Compile it manually.\n"
          ]
        },
        {
          "output_type": "stream",
          "name": "stderr",
          "text": [
            "WARNING:tensorflow:No training configuration found in the save file, so the model was *not* compiled. Compile it manually.\n"
          ]
        },
        {
          "output_type": "stream",
          "name": "stdout",
          "text": [
            "\n",
            "\n",
            "Class_accuracy of fc_model with alpha of 0.5 and temperature of 16.0is 98.81%\n",
            "\n",
            "\n",
            "WARNING:tensorflow:No training configuration found in the save file, so the model was *not* compiled. Compile it manually.\n"
          ]
        },
        {
          "output_type": "stream",
          "name": "stderr",
          "text": [
            "WARNING:tensorflow:No training configuration found in the save file, so the model was *not* compiled. Compile it manually.\n"
          ]
        },
        {
          "output_type": "stream",
          "name": "stdout",
          "text": [
            "\n",
            "\n",
            "Class_accuracy of fc_model with alpha of 0.5 and temperature of 32.0is 98.81%\n",
            "\n",
            "\n",
            "WARNING:tensorflow:No training configuration found in the save file, so the model was *not* compiled. Compile it manually.\n"
          ]
        },
        {
          "output_type": "stream",
          "name": "stderr",
          "text": [
            "WARNING:tensorflow:No training configuration found in the save file, so the model was *not* compiled. Compile it manually.\n"
          ]
        },
        {
          "output_type": "stream",
          "name": "stdout",
          "text": [
            "\n",
            "\n",
            "Class_accuracy of fc_model with alpha of 0.5 and temperature of 64.0is 98.85%\n",
            "\n",
            "\n",
            "\n",
            "\n",
            "-------- with alpha of  0.8 ------------\n",
            "WARNING:tensorflow:No training configuration found in the save file, so the model was *not* compiled. Compile it manually.\n"
          ]
        },
        {
          "output_type": "stream",
          "name": "stderr",
          "text": [
            "WARNING:tensorflow:No training configuration found in the save file, so the model was *not* compiled. Compile it manually.\n"
          ]
        },
        {
          "output_type": "stream",
          "name": "stdout",
          "text": [
            "\n",
            "\n",
            "Class_accuracy of fc_model with alpha of 0.8 and temperature of 1.0is 98.12%\n",
            "\n",
            "\n",
            "WARNING:tensorflow:No training configuration found in the save file, so the model was *not* compiled. Compile it manually.\n"
          ]
        },
        {
          "output_type": "stream",
          "name": "stderr",
          "text": [
            "WARNING:tensorflow:No training configuration found in the save file, so the model was *not* compiled. Compile it manually.\n"
          ]
        },
        {
          "output_type": "stream",
          "name": "stdout",
          "text": [
            "\n",
            "\n",
            "Class_accuracy of fc_model with alpha of 0.8 and temperature of 2.0is 98.55%\n",
            "\n",
            "\n",
            "WARNING:tensorflow:No training configuration found in the save file, so the model was *not* compiled. Compile it manually.\n"
          ]
        },
        {
          "output_type": "stream",
          "name": "stderr",
          "text": [
            "WARNING:tensorflow:No training configuration found in the save file, so the model was *not* compiled. Compile it manually.\n"
          ]
        },
        {
          "output_type": "stream",
          "name": "stdout",
          "text": [
            "\n",
            "\n",
            "Class_accuracy of fc_model with alpha of 0.8 and temperature of 4.0is 98.75%\n",
            "\n",
            "\n",
            "WARNING:tensorflow:No training configuration found in the save file, so the model was *not* compiled. Compile it manually.\n"
          ]
        },
        {
          "output_type": "stream",
          "name": "stderr",
          "text": [
            "WARNING:tensorflow:No training configuration found in the save file, so the model was *not* compiled. Compile it manually.\n"
          ]
        },
        {
          "output_type": "stream",
          "name": "stdout",
          "text": [
            "\n",
            "\n",
            "Class_accuracy of fc_model with alpha of 0.8 and temperature of 16.0is 98.79%\n",
            "\n",
            "\n",
            "WARNING:tensorflow:No training configuration found in the save file, so the model was *not* compiled. Compile it manually.\n"
          ]
        },
        {
          "output_type": "stream",
          "name": "stderr",
          "text": [
            "WARNING:tensorflow:No training configuration found in the save file, so the model was *not* compiled. Compile it manually.\n"
          ]
        },
        {
          "output_type": "stream",
          "name": "stdout",
          "text": [
            "\n",
            "\n",
            "Class_accuracy of fc_model with alpha of 0.8 and temperature of 32.0is 98.83%\n",
            "\n",
            "\n",
            "WARNING:tensorflow:No training configuration found in the save file, so the model was *not* compiled. Compile it manually.\n"
          ]
        },
        {
          "output_type": "stream",
          "name": "stderr",
          "text": [
            "WARNING:tensorflow:No training configuration found in the save file, so the model was *not* compiled. Compile it manually.\n"
          ]
        },
        {
          "output_type": "stream",
          "name": "stdout",
          "text": [
            "\n",
            "\n",
            "Class_accuracy of fc_model with alpha of 0.8 and temperature of 64.0is 98.82%\n",
            "\n",
            "\n"
          ]
        }
      ]
    },
    {
      "cell_type": "code",
      "source": [
        "Accuracy_student_0_, Accuracy_student_02_, Accuracy_student_05_, Accuracy_student_08_ = All_Accuracy_student[0: 6],All_Accuracy_student[6: 12],All_Accuracy_student[12: 18],All_Accuracy_student[18: 24] \n",
        "\n",
        "fig, ax = plt.subplots(figsize=(10,10))\n",
        "ax.set_xscale('log',basex=2)\n",
        "ax.plot(DISTILLATION_TEMPERATURE_spectrum,Accuracy_student_0_, marker='o', label='ALPHA=0.0')\n",
        "ax.plot(DISTILLATION_TEMPERATURE_spectrum, Accuracy_student_02_, marker='o', label='ALPHA=0.2')\n",
        "ax.plot(DISTILLATION_TEMPERATURE_spectrum, Accuracy_student_05_, marker='o', label='ALPHA=0.5')\n",
        "ax.plot(DISTILLATION_TEMPERATURE_spectrum, Accuracy_student_08_, marker='o', label='ALPHA=0.8')\n",
        "plt.ylim(98.2,99.7)\n",
        "plt.ylabel('Test Accuracy')\n",
        "plt.xlabel('Temperature')\n",
        "plt.title('Effects of Temperature and Alpha on Test Accuracy')\n",
        "plt.legend()\n",
        "plt.show()\n",
        "plt.savefig('talphatestaccuracy.png')"
      ],
      "metadata": {
        "id": "wMhriPCvaeC5",
        "colab": {
          "base_uri": "https://localhost:8080/",
          "height": 642
        },
        "outputId": "7976e2a4-a376-48e3-e05f-266d69ada72d"
      },
      "execution_count": null,
      "outputs": [
        {
          "output_type": "display_data",
          "data": {
            "text/plain": [
              "<Figure size 720x720 with 1 Axes>"
            ],
            "image/png": "[encoded data removed]"
          },
          "metadata": {
            "needs_background": "light"
          }
        },
        {
          "output_type": "display_data",
          "data": {
            "text/plain": [
              "<Figure size 432x288 with 0 Axes>"
            ]
          },
          "metadata": {}
        }
      ]
    },
    {
      "cell_type": "markdown",
      "source": [
        "# Test accuracy vs. tempreture curve"
      ],
      "metadata": {
        "id": "sj1N38fnRTNB"
      }
    },
    {
      "cell_type": "code",
      "source": [
        "# your code start from here for step 6\n",
        "ALPHA=0.5\n",
        "DISTILLATION_TEMPERATURE_spectrum = [1.,2.,4.,16.,32.,64.]\n",
        "Accuracy_st=Accuracy_student_05_\n",
        "fig, ax=plt.subplots(figsize=(10,10))\n",
        "ax.set_xscale('log',basex=2)\n",
        "ax.plot(DISTILLATION_TEMPERATURE_spectrum, Accuracy_st,marker='o', label='alpha : 0.5')\n",
        "plt.ylim(98.8,99.7)\n",
        "plt.xlabel('Temperature')\n",
        "plt.ylabel('Test Accuracy')\n",
        "plt.title(\"Test accuracy vs. tempreture curve\")\n",
        "plt.legend()\n",
        "plt.show()\n",
        "plt.savefig('Testaccuracytempreturecurve_alpha05.png')"
      ],
      "metadata": {
        "colab": {
          "base_uri": "https://localhost:8080/",
          "height": 642
        },
        "id": "BHzNAOx1vExm",
        "outputId": "30babab3-adc9-4071-9165-fcc8a5bb1e31"
      },
      "execution_count": null,
      "outputs": [
        {
          "output_type": "display_data",
          "data": {
            "text/plain": [
              "<Figure size 720x720 with 1 Axes>"
            ],
            "image/png": "[encoded data removed]"
          },
          "metadata": {
            "needs_background": "light"
          }
        },
        {
          "output_type": "display_data",
          "data": {
            "text/plain": [
              "<Figure size 432x288 with 0 Axes>"
            ]
          },
          "metadata": {}
        }
      ]
    },
    {
      "cell_type": "markdown",
      "source": [
        "# Train student from scratch"
      ],
      "metadata": {
        "id": "WNrH_1emRbGA"
      }
    },
    {
      "cell_type": "code",
      "source": [
        "# Build fully connected student.\n",
        "fc_model_no_distillation = tf.keras.Sequential()\n",
        "\n",
        "# your code start from here for step 7\n",
        "fc_model_no_distillation.add(Flatten(input_shape=(28,28,1)))\n",
        "fc_model_no_distillation.add(Dense(784, activation='relu'))\n",
        "fc_model_no_distillation.add(Dense(784, activation='relu'))\n",
        "fc_model_no_distillation.add(Dense(10))\n",
        "\n",
        "\n",
        "##@test {\"output\": \"ignore\"}\n",
        "\n",
        "def compute_plain_cross_entropy_loss(images, labels):\n",
        "  \"\"\"Compute plain loss for given images and labels.\n",
        "\n",
        "  For fair comparison and convenience, this function also performs a\n",
        "  LogSumExp over subclasses, but does not perform subclass distillation.\n",
        "\n",
        "  Args:\n",
        "    images: Tensor representing a batch of images.\n",
        "    labels: Tensor representing a batch of labels.\n",
        "\n",
        "  Returns:\n",
        "    Scalar loss Tensor.\n",
        "  \"\"\"\n",
        "  # your code start from here for step 7\n",
        "\n",
        "  student_subclass_logits = fc_model_no_distillation(images, training=True)\n",
        "  cross_entropy_loss = tf.reduce_mean(tf.nn.softmax_cross_entropy_with_logits(labels,student_subclass_logits))\n",
        "  \n",
        "  return cross_entropy_loss\n",
        "\n",
        "\n",
        "train_and_evaluate(fc_model_no_distillation, compute_plain_cross_entropy_loss)\n",
        "fc_model_no_distillation.save('fc_model_no_distillation.h5')"
      ],
      "metadata": {
        "id": "HjospsxIRbQ6",
        "colab": {
          "base_uri": "https://localhost:8080/"
        },
        "outputId": "9a59e3e8-c8e2-4480-9ce1-a57652bb59e9"
      },
      "execution_count": null,
      "outputs": [
        {
          "output_type": "stream",
          "name": "stdout",
          "text": [
            "Epoch 1: Class_accuracy: 96.72%\n",
            "Epoch 2: Class_accuracy: 97.58%\n",
            "Epoch 3: Class_accuracy: 97.89%\n",
            "Epoch 4: Class_accuracy: 98.03%\n",
            "Epoch 5: Class_accuracy: 98.20%\n",
            "Epoch 6: Class_accuracy: 97.80%\n",
            "Epoch 7: Class_accuracy: 98.11%\n",
            "Epoch 8: Class_accuracy: 98.13%\n",
            "Epoch 9: Class_accuracy: 98.11%\n",
            "Epoch 10: Class_accuracy: 98.14%\n",
            "Epoch 11: Class_accuracy: 98.27%\n",
            "Epoch 12: Class_accuracy: 98.16%\n",
            "WARNING:tensorflow:Compiled the loaded model, but the compiled metrics have yet to be built. `model.compile_metrics` will be empty until you train or evaluate the model.\n"
          ]
        },
        {
          "output_type": "stream",
          "name": "stderr",
          "text": [
            "WARNING:tensorflow:Compiled the loaded model, but the compiled metrics have yet to be built. `model.compile_metrics` will be empty until you train or evaluate the model.\n"
          ]
        }
      ]
    },
    {
      "cell_type": "markdown",
      "source": [
        "# Comparing the teacher and student model (number of of parameters and FLOPs) "
      ],
      "metadata": {
        "id": "yq3JTpQ4RuhR"
      }
    },
    {
      "cell_type": "code",
      "source": [
        "!pip install keras-flops"
      ],
      "metadata": {
        "colab": {
          "base_uri": "https://localhost:8080/"
        },
        "id": "sRmKTe7gB0xb",
        "outputId": "bad50966-8ed4-4b27-9e98-4fc370c95f04"
      },
      "execution_count": null,
      "outputs": [
        {
          "output_type": "stream",
          "name": "stdout",
          "text": [
            "Collecting keras-flops\n",
            "  Downloading keras_flops-0.1.2-py3-none-any.whl (5.3 kB)\n",
            "Requirement already satisfied: tensorflow<3.0,>=2.2 in /usr/local/lib/python3.7/dist-packages (from keras-flops) (2.8.0)\n",
            "Requirement already satisfied: tensorflow-io-gcs-filesystem>=0.23.1 in /usr/local/lib/python3.7/dist-packages (from tensorflow<3.0,>=2.2->keras-flops) (0.24.0)\n",
            "Requirement already satisfied: flatbuffers>=1.12 in /usr/local/lib/python3.7/dist-packages (from tensorflow<3.0,>=2.2->keras-flops) (2.0)\n",
            "Collecting tf-estimator-nightly==2.8.0.dev2021122109\n",
            "  Downloading tf_estimator_nightly-2.8.0.dev2021122109-py2.py3-none-any.whl (462 kB)\n",
            "\u001b[K     |████████████████████████████████| 462 kB 5.4 MB/s \n",
            "\u001b[?25hRequirement already satisfied: keras<2.9,>=2.8.0rc0 in /usr/local/lib/python3.7/dist-packages (from tensorflow<3.0,>=2.2->keras-flops) (2.8.0)\n",
            "Requirement already satisfied: keras-preprocessing>=1.1.1 in /usr/local/lib/python3.7/dist-packages (from tensorflow<3.0,>=2.2->keras-flops) (1.1.2)\n",
            "Requirement already satisfied: termcolor>=1.1.0 in /usr/local/lib/python3.7/dist-packages (from tensorflow<3.0,>=2.2->keras-flops) (1.1.0)\n",
            "Requirement already satisfied: grpcio<2.0,>=1.24.3 in /usr/local/lib/python3.7/dist-packages (from tensorflow<3.0,>=2.2->keras-flops) (1.44.0)\n",
            "Requirement already satisfied: h5py>=2.9.0 in /usr/local/lib/python3.7/dist-packages (from tensorflow<3.0,>=2.2->keras-flops) (3.1.0)\n",
            "Requirement already satisfied: wrapt>=1.11.0 in /usr/local/lib/python3.7/dist-packages (from tensorflow<3.0,>=2.2->keras-flops) (1.14.0)\n",
            "Requirement already satisfied: google-pasta>=0.1.1 in /usr/local/lib/python3.7/dist-packages (from tensorflow<3.0,>=2.2->keras-flops) (0.2.0)\n",
            "Requirement already satisfied: typing-extensions>=3.6.6 in /usr/local/lib/python3.7/dist-packages (from tensorflow<3.0,>=2.2->keras-flops) (3.10.0.2)\n",
            "Requirement already satisfied: absl-py>=0.4.0 in /usr/local/lib/python3.7/dist-packages (from tensorflow<3.0,>=2.2->keras-flops) (1.0.0)\n",
            "Requirement already satisfied: libclang>=9.0.1 in /usr/local/lib/python3.7/dist-packages (from tensorflow<3.0,>=2.2->keras-flops) (13.0.0)\n",
            "Requirement already satisfied: numpy>=1.20 in /usr/local/lib/python3.7/dist-packages (from tensorflow<3.0,>=2.2->keras-flops) (1.21.5)\n",
            "Requirement already satisfied: protobuf>=3.9.2 in /usr/local/lib/python3.7/dist-packages (from tensorflow<3.0,>=2.2->keras-flops) (3.17.3)\n",
            "Requirement already satisfied: six>=1.12.0 in /usr/local/lib/python3.7/dist-packages (from tensorflow<3.0,>=2.2->keras-flops) (1.15.0)\n",
            "Requirement already satisfied: tensorboard<2.9,>=2.8 in /usr/local/lib/python3.7/dist-packages (from tensorflow<3.0,>=2.2->keras-flops) (2.8.0)\n",
            "Requirement already satisfied: opt-einsum>=2.3.2 in /usr/local/lib/python3.7/dist-packages (from tensorflow<3.0,>=2.2->keras-flops) (3.3.0)\n",
            "Requirement already satisfied: astunparse>=1.6.0 in /usr/local/lib/python3.7/dist-packages (from tensorflow<3.0,>=2.2->keras-flops) (1.6.3)\n",
            "Requirement already satisfied: setuptools in /usr/local/lib/python3.7/dist-packages (from tensorflow<3.0,>=2.2->keras-flops) (57.4.0)\n",
            "Requirement already satisfied: gast>=0.2.1 in /usr/local/lib/python3.7/dist-packages (from tensorflow<3.0,>=2.2->keras-flops) (0.5.3)\n",
            "Requirement already satisfied: wheel<1.0,>=0.23.0 in /usr/local/lib/python3.7/dist-packages (from astunparse>=1.6.0->tensorflow<3.0,>=2.2->keras-flops) (0.37.1)\n",
            "Requirement already satisfied: cached-property in /usr/local/lib/python3.7/dist-packages (from h5py>=2.9.0->tensorflow<3.0,>=2.2->keras-flops) (1.5.2)\n",
            "Requirement already satisfied: tensorboard-plugin-wit>=1.6.0 in /usr/local/lib/python3.7/dist-packages (from tensorboard<2.9,>=2.8->tensorflow<3.0,>=2.2->keras-flops) (1.8.1)\n",
            "Requirement already satisfied: markdown>=2.6.8 in /usr/local/lib/python3.7/dist-packages (from tensorboard<2.9,>=2.8->tensorflow<3.0,>=2.2->keras-flops) (3.3.6)\n",
            "Requirement already satisfied: requests<3,>=2.21.0 in /usr/local/lib/python3.7/dist-packages (from tensorboard<2.9,>=2.8->tensorflow<3.0,>=2.2->keras-flops) (2.23.0)\n",
            "Requirement already satisfied: werkzeug>=0.11.15 in /usr/local/lib/python3.7/dist-packages (from tensorboard<2.9,>=2.8->tensorflow<3.0,>=2.2->keras-flops) (1.0.1)\n",
            "Requirement already satisfied: tensorboard-data-server<0.7.0,>=0.6.0 in /usr/local/lib/python3.7/dist-packages (from tensorboard<2.9,>=2.8->tensorflow<3.0,>=2.2->keras-flops) (0.6.1)\n",
            "Requirement already satisfied: google-auth<3,>=1.6.3 in /usr/local/lib/python3.7/dist-packages (from tensorboard<2.9,>=2.8->tensorflow<3.0,>=2.2->keras-flops) (1.35.0)\n",
            "Requirement already satisfied: google-auth-oauthlib<0.5,>=0.4.1 in /usr/local/lib/python3.7/dist-packages (from tensorboard<2.9,>=2.8->tensorflow<3.0,>=2.2->keras-flops) (0.4.6)\n",
            "Requirement already satisfied: rsa<5,>=3.1.4 in /usr/local/lib/python3.7/dist-packages (from google-auth<3,>=1.6.3->tensorboard<2.9,>=2.8->tensorflow<3.0,>=2.2->keras-flops) (4.8)\n",
            "Requirement already satisfied: cachetools<5.0,>=2.0.0 in /usr/local/lib/python3.7/dist-packages (from google-auth<3,>=1.6.3->tensorboard<2.9,>=2.8->tensorflow<3.0,>=2.2->keras-flops) (4.2.4)\n",
            "Requirement already satisfied: pyasn1-modules>=0.2.1 in /usr/local/lib/python3.7/dist-packages (from google-auth<3,>=1.6.3->tensorboard<2.9,>=2.8->tensorflow<3.0,>=2.2->keras-flops) (0.2.8)\n",
            "Requirement already satisfied: requests-oauthlib>=0.7.0 in /usr/local/lib/python3.7/dist-packages (from google-auth-oauthlib<0.5,>=0.4.1->tensorboard<2.9,>=2.8->tensorflow<3.0,>=2.2->keras-flops) (1.3.1)\n",
            "Requirement already satisfied: importlib-metadata>=4.4 in /usr/local/lib/python3.7/dist-packages (from markdown>=2.6.8->tensorboard<2.9,>=2.8->tensorflow<3.0,>=2.2->keras-flops) (4.11.3)\n",
            "Requirement already satisfied: zipp>=0.5 in /usr/local/lib/python3.7/dist-packages (from importlib-metadata>=4.4->markdown>=2.6.8->tensorboard<2.9,>=2.8->tensorflow<3.0,>=2.2->keras-flops) (3.7.0)\n",
            "Requirement already satisfied: pyasn1<0.5.0,>=0.4.6 in /usr/local/lib/python3.7/dist-packages (from pyasn1-modules>=0.2.1->google-auth<3,>=1.6.3->tensorboard<2.9,>=2.8->tensorflow<3.0,>=2.2->keras-flops) (0.4.8)\n",
            "Requirement already satisfied: urllib3!=1.25.0,!=1.25.1,<1.26,>=1.21.1 in /usr/local/lib/python3.7/dist-packages (from requests<3,>=2.21.0->tensorboard<2.9,>=2.8->tensorflow<3.0,>=2.2->keras-flops) (1.24.3)\n",
            "Requirement already satisfied: certifi>=2017.4.17 in /usr/local/lib/python3.7/dist-packages (from requests<3,>=2.21.0->tensorboard<2.9,>=2.8->tensorflow<3.0,>=2.2->keras-flops) (2021.10.8)\n",
            "Requirement already satisfied: idna<3,>=2.5 in /usr/local/lib/python3.7/dist-packages (from requests<3,>=2.21.0->tensorboard<2.9,>=2.8->tensorflow<3.0,>=2.2->keras-flops) (2.10)\n",
            "Requirement already satisfied: chardet<4,>=3.0.2 in /usr/local/lib/python3.7/dist-packages (from requests<3,>=2.21.0->tensorboard<2.9,>=2.8->tensorflow<3.0,>=2.2->keras-flops) (3.0.4)\n",
            "Requirement already satisfied: oauthlib>=3.0.0 in /usr/local/lib/python3.7/dist-packages (from requests-oauthlib>=0.7.0->google-auth-oauthlib<0.5,>=0.4.1->tensorboard<2.9,>=2.8->tensorflow<3.0,>=2.2->keras-flops) (3.2.0)\n",
            "Installing collected packages: tf-estimator-nightly, keras-flops\n",
            "Successfully installed keras-flops-0.1.2 tf-estimator-nightly-2.8.0.dev2021122109\n"
          ]
        }
      ]
    },
    {
      "cell_type": "code",
      "source": [
        "from keras_flops import get_flops"
      ],
      "metadata": {
        "id": "zFchMOt_B7h3"
      },
      "execution_count": null,
      "outputs": []
    },
    {
      "cell_type": "code",
      "source": [
        "# your code start from here for step 8\n",
        "cnn_model.summary()\n",
        "cnn_flops=get_flops(cnn_model, batch_size=BATCH_SIZE)\n",
        "print('\\n')\n",
        "print(f'Teacher model FLOPs: {cnn_flops/10**9}')"
      ],
      "metadata": {
        "id": "4V8GB2yRRuxF",
        "colab": {
          "base_uri": "https://localhost:8080/"
        },
        "outputId": "9e2a1c55-28a9-4628-a03e-d3890e756749"
      },
      "execution_count": null,
      "outputs": [
        {
          "output_type": "stream",
          "name": "stdout",
          "text": [
            "Model: \"sequential\"\n",
            "_________________________________________________________________\n",
            " Layer (type)                Output Shape              Param #   \n",
            "=================================================================\n",
            " conv2d (Conv2D)             (None, 28, 28, 32)        320       \n",
            "                                                                 \n",
            " max_pooling2d (MaxPooling2D  (None, 27, 27, 32)       0         \n",
            " )                                                               \n",
            "                                                                 \n",
            " conv2d_1 (Conv2D)           (None, 25, 25, 64)        18496     \n",
            "                                                                 \n",
            " max_pooling2d_1 (MaxPooling  (None, 12, 12, 64)       0         \n",
            " 2D)                                                             \n",
            "                                                                 \n",
            " flatten (Flatten)           (None, 9216)              0         \n",
            "                                                                 \n",
            " dropout (Dropout)           (None, 9216)              0         \n",
            "                                                                 \n",
            " dense (Dense)               (None, 128)               1179776   \n",
            "                                                                 \n",
            " dropout_1 (Dropout)         (None, 128)               0         \n",
            "                                                                 \n",
            " dense_1 (Dense)             (None, 10)                1290      \n",
            "                                                                 \n",
            "=================================================================\n",
            "Total params: 1,199,882\n",
            "Trainable params: 1,199,882\n",
            "Non-trainable params: 0\n",
            "_________________________________________________________________\n",
            "\n",
            "\n",
            "Teacher model FLOPs: 6.668503552\n"
          ]
        }
      ]
    },
    {
      "cell_type": "code",
      "source": [
        "fc_model.summary()\n",
        "fc_flops=get_flops(fc_model, batch_size=BATCH_SIZE)\n",
        "print('\\n')\n",
        "print(f'Student model FLOPs: {fc_flops/10**9}')"
      ],
      "metadata": {
        "colab": {
          "base_uri": "https://localhost:8080/"
        },
        "id": "IAaT0ZFLLkaf",
        "outputId": "cfa5a14b-279f-48a9-bacf-0095f790f098"
      },
      "execution_count": null,
      "outputs": [
        {
          "output_type": "stream",
          "name": "stdout",
          "text": [
            "Model: \"sequential_16\"\n",
            "_________________________________________________________________\n",
            " Layer (type)                Output Shape              Param #   \n",
            "=================================================================\n",
            " flatten_16 (Flatten)        (None, 784)               0         \n",
            "                                                                 \n",
            " dense_47 (Dense)            (None, 784)               615440    \n",
            "                                                                 \n",
            " dense_48 (Dense)            (None, 784)               615440    \n",
            "                                                                 \n",
            " dense_49 (Dense)            (None, 10)                7850      \n",
            "                                                                 \n",
            "=================================================================\n",
            "Total params: 1,238,730\n",
            "Trainable params: 1,238,730\n",
            "Non-trainable params: 0\n",
            "_________________________________________________________________\n",
            "\n",
            "\n",
            "Student model FLOPs: 0.633825792\n"
          ]
        }
      ]
    },
    {
      "cell_type": "code",
      "source": [
        "fc_model_no_distillation.summary()\n",
        "fc_model_no_distillation_flops=get_flops(fc_model_no_distillation, batch_size=BATCH_SIZE)\n",
        "print('\\n')\n",
        "print(f'Student model without KD FLOPs: {fc_model_no_distillation_flops/10**9}')"
      ],
      "metadata": {
        "colab": {
          "base_uri": "https://localhost:8080/"
        },
        "id": "EPB1Ab4_LkQi",
        "outputId": "432fe047-e083-4362-eb6e-23b7f62c10cd"
      },
      "execution_count": null,
      "outputs": [
        {
          "output_type": "stream",
          "name": "stdout",
          "text": [
            "Model: \"sequential_17\"\n",
            "_________________________________________________________________\n",
            " Layer (type)                Output Shape              Param #   \n",
            "=================================================================\n",
            " flatten_17 (Flatten)        (None, 784)               0         \n",
            "                                                                 \n",
            " dense_50 (Dense)            (None, 784)               615440    \n",
            "                                                                 \n",
            " dense_51 (Dense)            (None, 784)               615440    \n",
            "                                                                 \n",
            " dense_52 (Dense)            (None, 10)                7850      \n",
            "                                                                 \n",
            "=================================================================\n",
            "Total params: 1,238,730\n",
            "Trainable params: 1,238,730\n",
            "Non-trainable params: 0\n",
            "_________________________________________________________________\n",
            "\n",
            "\n",
            "Student model without KD FLOPs: 0.633825792\n"
          ]
        }
      ]
    },
    {
      "cell_type": "markdown",
      "source": [
        "# XAI method to explain models"
      ],
      "metadata": {
        "id": "8b5yNhJfRu-7"
      }
    },
    {
      "cell_type": "code",
      "source": [
        "# your code start from here for step 9\n",
        "#@title Integrated gradient\n",
        "def gradients_(input, model, pred_index):\n",
        "  images = tf.convert_to_tensor(input,dtype='float32')\n",
        "\n",
        "  with tf.GradientTape() as tape:\n",
        "    tape.watch(images)\n",
        "    preds=model(images)\n",
        "    grads = tape.gradient(preds[:, pred_index],images)\n",
        "  return grads\n",
        "\n",
        "def IG(input, model, label, knots=50):\n",
        "  steps = np.linspace(0.,1.,knots+1)[1:]\n",
        "  interpolated_image = np.empty((knots,28,28,1))\n",
        "\n",
        "  for i in range(knots):\n",
        "    interpolated_image[i] = input * steps[i]\n",
        "  \n",
        "  grads = gradients_(interpolated_image, model, tf.math.argmax(label,axis=1)[0])\n",
        "  ave_grad = tf.math.reduce_mean(grads,axis=0) \n",
        "  ave_grad = input * ave_grad\n",
        "  \n",
        "  return ave_grad\n",
        "\n"
      ],
      "metadata": {
        "id": "ODJ0AsfcVT0l"
      },
      "execution_count": null,
      "outputs": []
    },
    {
      "cell_type": "code",
      "source": [
        "#visualization\n",
        "\n",
        "def Explanation_Map_IG(ex_mp):\n",
        "  em = np.average(abs(ex_mp),axis=2)\n",
        "  em -= em.min()\n",
        "  em /= em.max()+10e-30\n",
        "  return em\n",
        "\n",
        "x=random.randint(1,40)\n",
        "for i in range(x,x+10):\n",
        "  for images, labels in mnist_test:\n",
        "    sample = images[i:i+1]\n",
        "    sample_labels = labels[i:i+1]\n",
        "    break\n",
        "  IG_t = IG(sample,cnn_model,sample_labels)\n",
        "  IG_withKD_student = IG(sample,fc_model,sample_labels)\n",
        "  IG_student_no_distillation = IG(sample,fc_model_no_distillation,sample_labels)\n",
        "\n",
        "  plt.figure(figsize=(10,5))\n",
        "  plt.subplot(1,4,1)\n",
        "  plt.imshow(sample.numpy().reshape((28,28)),cmap='gray')\n",
        "  plt.axis('off')\n",
        "  plt.title('Sample Image')\n",
        "\n",
        "  plt.subplot(1,4,2)\n",
        "  plt.imshow(Explanation_Map_IG(IG_t[0]).reshape((28,28)),cmap='jet')\n",
        "  plt.axis('off')\n",
        "  plt.title('IG Map T model)')\n",
        "\n",
        "  plt.subplot(1,4,3)\n",
        "  plt.imshow(Explanation_Map_IG(IG_withKD_student[0]).reshape((28,28)),cmap='jet')\n",
        "  plt.axis('off')\n",
        "  plt.title('IG Map st with KD')\n",
        "\n",
        "  plt.subplot(1,4,4)\n",
        "  plt.imshow(Explanation_Map_IG(IG_student_no_distillation[0]).reshape((28,28)),cmap='jet')\n",
        "  plt.axis('off')\n",
        "  plt.title('IG Map st no KD')\n",
        "  plt.show()\n",
        "\n",
        "plt.savefig('XAI method.png')"
      ],
      "metadata": {
        "colab": {
          "base_uri": "https://localhost:8080/",
          "height": 1000
        },
        "id": "ox1fAr0Gzi5j",
        "outputId": "81e91016-084b-4b7c-b41b-736e93adc342"
      },
      "execution_count": null,
      "outputs": [
        {
          "output_type": "display_data",
          "data": {
            "text/plain": [
              "<Figure size 720x360 with 4 Axes>"
            ],
            "image/png": "[encoded data removed]"
          },
          "metadata": {
            "needs_background": "light"
          }
        },
        {
          "output_type": "display_data",
          "data": {
            "text/plain": [
              "<Figure size 720x360 with 4 Axes>"
            ],
            "image/png": "[encoded data removed]"
          },
          "metadata": {
            "needs_background": "light"
          }
        },
        {
          "output_type": "display_data",
          "data": {
            "text/plain": [
              "<Figure size 720x360 with 4 Axes>"
            ],
            "image/png": "[encoded data removed]"
          },
          "metadata": {
            "needs_background": "light"
          }
        },
        {
          "output_type": "display_data",
          "data": {
            "text/plain": [
              "<Figure size 720x360 with 4 Axes>"
            ],
            "image/png": "[encoded data removed]"
          },
          "metadata": {
            "needs_background": "light"
          }
        },
        {
          "output_type": "display_data",
          "data": {
            "text/plain": [
              "<Figure size 720x360 with 4 Axes>"
            ],
            "image/png": "[encoded data removed]"
          },
          "metadata": {
            "needs_background": "light"
          }
        },
        {
          "output_type": "display_data",
          "data": {
            "text/plain": [
              "<Figure size 720x360 with 4 Axes>"
            ],
            "image/png": "[encoded data removed]"
          },
          "metadata": {
            "needs_background": "light"
          }
        },
        {
          "output_type": "display_data",
          "data": {
            "text/plain": [
              "<Figure size 720x360 with 4 Axes>"
            ],
            "image/png": "[encoded data removed]"
          },
          "metadata": {
            "needs_background": "light"
          }
        },
        {
          "output_type": "display_data",
          "data": {
            "text/plain": [
              "<Figure size 720x360 with 4 Axes>"
            ],
            "image/png": "[encoded data removed]"
          },
          "metadata": {
            "needs_background": "light"
          }
        },
        {
          "output_type": "display_data",
          "data": {
            "text/plain": [
              "<Figure size 720x360 with 4 Axes>"
            ],
            "image/png": "[encoded data removed]"
          },
          "metadata": {
            "needs_background": "light"
          }
        },
        {
          "output_type": "display_data",
          "data": {
            "text/plain": [
              "<Figure size 720x360 with 4 Axes>"
            ],
            "image/png": "[encoded data removed]"
          },
          "metadata": {
            "needs_background": "light"
          }
        },
        {
          "output_type": "display_data",
          "data": {
            "text/plain": [
              "<Figure size 432x288 with 0 Axes>"
            ]
          },
          "metadata": {}
        }
      ]
    },
    {
      "cell_type": "code",
      "source": [
        "#visualization\n",
        "\n",
        "def Explanation_Map_IG(ex_mp):\n",
        "  em = np.average(abs(ex_mp),axis=2)\n",
        "  em -= em.min()\n",
        "  em /= em.max()+10e-30\n",
        "  return em\n",
        "\n",
        "x=random.randint(1,40)\n",
        "for i in range(x,x+10):\n",
        "  for images, labels in mnist_test:\n",
        "    sample = images[i:i+1]\n",
        "    sample_labels = labels[i:i+1]\n",
        "    break\n",
        "  IG_t = IG(sample,cnn_model,sample_labels)\n",
        "  IG_withKD_student = IG(sample,fc_model,sample_labels)\n",
        "  IG_student_no_distillation = IG(sample,fc_model_no_distillation,sample_labels)\n",
        "\n",
        "  plt.figure(figsize=(10,5))\n",
        "  plt.subplot(1,4,1)\n",
        "  plt.imshow(sample.numpy().reshape((28,28)),cmap='gray')\n",
        "  plt.axis('off')\n",
        "  plt.title('Sample Image')\n",
        "\n",
        "  plt.subplot(1,4,2)\n",
        "  plt.imshow(Explanation_Map_IG(IG_t[0]).reshape((28,28)),cmap='jet')\n",
        "  plt.axis('off')\n",
        "  plt.title('IG Map T model)')\n",
        "\n",
        "  plt.subplot(1,4,3)\n",
        "  plt.imshow(Explanation_Map_IG(IG_withKD_student[0]).reshape((28,28)),cmap='jet')\n",
        "  plt.axis('off')\n",
        "  plt.title('IG Map st with KD')\n",
        "\n",
        "  plt.subplot(1,4,4)\n",
        "  plt.imshow(Explanation_Map_IG(IG_student_no_distillation[0]).reshape((28,28)),cmap='jet')\n",
        "  plt.axis('off')\n",
        "  plt.title('IG Map st no KD')\n",
        "  plt.show()\n",
        "\n",
        "plt.savefig('XAI method.png')"
      ],
      "metadata": {
        "colab": {
          "base_uri": "https://localhost:8080/",
          "height": 1000
        },
        "id": "yZke8gO4Mtts",
        "outputId": "6c43bcd1-4b63-4300-90ef-e3a03a7205a6"
      },
      "execution_count": null,
      "outputs": [
        {
          "output_type": "display_data",
          "data": {
            "text/plain": [
              "<Figure size 720x360 with 4 Axes>"
            ],
            "image/png": "[encoded data removed]"
          },
          "metadata": {
            "needs_background": "light"
          }
        },
        {
          "output_type": "display_data",
          "data": {
            "text/plain": [
              "<Figure size 720x360 with 4 Axes>"
            ],
            "image/png": "[encoded data removed]"
          },
          "metadata": {
            "needs_background": "light"
          }
        },
        {
          "output_type": "display_data",
          "data": {
            "text/plain": [
              "<Figure size 720x360 with 4 Axes>"
            ],
            "image/png": "[encoded data removed]"
          },
          "metadata": {
            "needs_background": "light"
          }
        },
        {
          "output_type": "display_data",
          "data": {
            "text/plain": [
              "<Figure size 720x360 with 4 Axes>"
            ],
            "image/png": "[encoded data removed]"
          },
          "metadata": {
            "needs_background": "light"
          }
        },
        {
          "output_type": "display_data",
          "data": {
            "text/plain": [
              "<Figure size 720x360 with 4 Axes>"
            ],
            "image/png": "[encoded data removed]"
          },
          "metadata": {
            "needs_background": "light"
          }
        },
        {
          "output_type": "display_data",
          "data": {
            "text/plain": [
              "<Figure size 720x360 with 4 Axes>"
            ],
            "image/png": "[encoded data removed]"
          },
          "metadata": {
            "needs_background": "light"
          }
        },
        {
          "output_type": "display_data",
          "data": {
            "text/plain": [
              "<Figure size 720x360 with 4 Axes>"
            ],
            "image/png": "[encoded data removed]"
          },
          "metadata": {
            "needs_background": "light"
          }
        },
        {
          "output_type": "display_data",
          "data": {
            "text/plain": [
              "<Figure size 720x360 with 4 Axes>"
            ],
            "image/png": "[encoded data removed]"
          },
          "metadata": {
            "needs_background": "light"
          }
        },
        {
          "output_type": "display_data",
          "data": {
            "text/plain": [
              "<Figure size 720x360 with 4 Axes>"
            ],
            "image/png": "[encoded data removed]"
          },
          "metadata": {
            "needs_background": "light"
          }
        },
        {
          "output_type": "display_data",
          "data": {
            "text/plain": [
              "<Figure size 720x360 with 4 Axes>"
            ],
            "image/png": "[encoded data removed]"
          },
          "metadata": {
            "needs_background": "light"
          }
        }
      ]
    },
    {
      "cell_type": "markdown",
      "source": [
        "# Implementing the state-of-the-art KD algorithm"
      ],
      "metadata": {
        "id": "KjwJ5oziRvRn"
      }
    },
    {
      "cell_type": "code",
      "source": [
        "# #subclass distillation\n",
        "# #Rafael M ̈uller, Simon Kornblith, and Geoffrey Hinton. Subclass distillation. arXiv preprint\n",
        "# arXiv:2002.03936, 2020. https://arxiv.org/abs/2002.03936."
      ],
      "metadata": {
        "id": "6c3fbak4epHC"
      },
      "execution_count": null,
      "outputs": []
    },
    {
      "cell_type": "code",
      "source": [
        "import tensorflow.compat.v2 as tf\n",
        "import tensorflow_datasets as tfds\n",
        "from typing import Union\n",
        "\n",
        "tf.enable_v2_behavior()\n",
        "\n",
        "builder = tfds.builder('mnist')\n",
        "BATCH_SIZE = 256\n",
        "NUM_EPOCHS = 12\n",
        "NUM_CLASSES = 2\n",
        "NUM_SUBCLASSES = 10\n",
        "\n",
        "ALPHA = 0.5 # task balance between cross-entropy and distillation loss\n",
        "DISTILLATION_TEMPERATURE = 4.\n",
        "BETA = 1.0\n",
        "AUXILIARY_TEMPERATURE = 1.0"
      ],
      "metadata": {
        "id": "aec4jFqoo7uA"
      },
      "execution_count": null,
      "outputs": []
    },
    {
      "cell_type": "code",
      "source": [
        "import os\n",
        "import numpy as np\n",
        "# import pandas as pd\n",
        "import tensorflow\n",
        "from tensorflow import keras, matmul, reshape\n",
        "import keras\n",
        "from keras.preprocessing.image import ImageDataGenerator\n",
        "from keras.models import Sequential\n",
        "from keras import optimizers\n",
        "from keras.layers import Conv2D, MaxPooling2D, GlobalAveragePooling2D, Dense, Flatten, Dropout, InputLayer\n",
        "# from keras import regularizers\n",
        "# import keras.backend as K\n",
        "from tensorflow.math import exp\n",
        "from keras.models import Model,load_model\n",
        "from tensorflow.keras import layers,initializers\n",
        "# from tensorflow.core.util import event_pb2\n",
        "# from tensorflow.python.lib.io import tf_record\n",
        "import matplotlib.pyplot as plt\n",
        "import sklearn.metrics as metrics\n",
        "import random\n"
      ],
      "metadata": {
        "id": "38zadfsAo6_v"
      },
      "execution_count": null,
      "outputs": []
    },
    {
      "cell_type": "code",
      "source": [
        "def preprocess(x):\n",
        "  image = tf.image.convert_image_dtype(x['image'], tf.float32)\n",
        "  subclass_labels = tf.one_hot(x['label'], builder.info.features['label'].num_classes)\n",
        "  labels = tf.reduce_sum(tf.reshape(subclass_labels, (NUM_CLASSES, NUM_SUBCLASSES // NUM_CLASSES)), -1)\n",
        "  return image, labels\n",
        "\n",
        "mnist_train = tfds.load('mnist', split='train', shuffle_files=False).cache()\n",
        "mnist_train = mnist_train.map(preprocess)\n",
        "mnist_train = mnist_train.shuffle(builder.info.splits['train'].num_examples)\n",
        "mnist_train = mnist_train.batch(BATCH_SIZE, drop_remainder=True)\n",
        "\n",
        "mnist_test = tfds.load('mnist', split='test').cache()\n",
        "mnist_test = mnist_test.map(preprocess).batch(BATCH_SIZE)"
      ],
      "metadata": {
        "id": "pSjVh5njULMS"
      },
      "execution_count": null,
      "outputs": []
    },
    {
      "cell_type": "code",
      "source": [
        "# your code start from here for step 13\n",
        "##@test {\"output\": \"ignore\"}\n",
        "\n",
        "# Build CNN teacher.\n",
        "cnn_model = tf.keras.Sequential()\n",
        "cnn_model.add(Conv2D(32,kernel_size=(3,3),strides=1, padding='same',activation='relu', input_shape=(28,28,1)))\n",
        "cnn_model.add(MaxPooling2D(pool_size=(2,2), strides=1))\n",
        "cnn_model.add(Conv2D(64,kernel_size= (3,3), strides=1,activation='relu' ))\n",
        "cnn_model.add(MaxPooling2D(pool_size=(2,2),strides=2))\n",
        "cnn_model.add(Flatten())\n",
        "cnn_model.add(Dropout(rate=0.5))\n",
        "cnn_model.add(Dense(128,activation='relu'))\n",
        "cnn_model.add(Dropout(rate=0.5))\n",
        "cnn_model.add(Dense(10))\n",
        "\n",
        "\n",
        "\n",
        "# Build fully connected student.\n",
        "fc_model = tf.keras.Sequential()\n",
        "fc_model.add(Flatten(input_shape=(28,28,1)))\n",
        "fc_model.add(Dense(784, activation='relu'))\n",
        "fc_model.add(Dense(784, activation='relu'))\n",
        "fc_model.add(Dense(10))\n",
        "\n",
        "fc_model.save_weights('fc_model_.h5')"
      ],
      "metadata": {
        "id": "q10lybAFRvZt"
      },
      "execution_count": null,
      "outputs": []
    },
    {
      "cell_type": "code",
      "source": [
        "# Teacher Loss Function\n",
        "def auxiliary_loss(subclass_logits: tf.Tensor, temperature: Union[float, tf.Tensor]):\n",
        "  temperature = tf.convert_to_tensor(temperature, dtype=subclass_logits.dtype)\n",
        "  mean, var = tf.nn.moments(subclass_logits, -1, keepdims=True)\n",
        "  num_subclasses = tf.convert_to_tensor(NUM_SUBCLASSES / NUM_CLASSES, dtype=subclass_logits.dtype)\n",
        "\n",
        "  epsilon = tf.convert_to_tensor(1e-9, dtype=subclass_logits.dtype)\n",
        "\n",
        "  vi = tf.nn.batch_normalization(subclass_logits, mean=mean, variance=var, offset=None, scale=1./ tf.sqrt(temperature * num_subclasses), variance_epsilon=epsilon)\n",
        "  n = tf.cast(BATCH_SIZE, subclass_logits.dtype)\n",
        "\n",
        "  products = tf.linalg.matmul(vi, vi, transpose_b=True)\n",
        "  return (tf.math.reduce_mean(tf.math.reduce_logsumexp(products, -1)) - 1/temperature -tf.math.log(n))\n",
        "\n",
        "def compute_teacher_loss(images, labels):\n",
        "\n",
        "  subclass_logits = cnn_model(images, training=True)\n",
        "\n",
        "  # cross entropy \n",
        "  subclass_logits = tf.reshape(subclass_logits, (-1, NUM_CLASSES, NUM_SUBCLASSES // NUM_CLASSES))\n",
        "  class_logits = tf.math.reduce_logsumexp(subclass_logits, -1)\n",
        "  cross_entropy_loss_value = tf.nn.softmax_cross_entropy_with_logits(labels, class_logits)\n",
        "\n",
        "  auxiliary_loss_value = auxiliary_loss(subclass_logits, AUXILIARY_TEMPERATURE)\n",
        "\n",
        "  return cross_entropy_loss_value + BETA * auxiliary_loss_value"
      ],
      "metadata": {
        "id": "A1q-7JkoUVq9"
      },
      "execution_count": null,
      "outputs": []
    },
    {
      "cell_type": "code",
      "source": [
        "# Student Loss function\n",
        "def distillation_loss(teacher_logits: tf.Tensor, student_logits: tf.Tensor, temperature: Union[float, tf.Tensor]):\n",
        "\n",
        "  soft_targets = tf.nn.softmax(teacher_logits / temperature)\n",
        "  return tf.reduce_mean(\n",
        "      tf.nn.softmax_cross_entropy_with_logits(\n",
        "          soft_targets, student_logits / temperature)) * temperature ** 2\n",
        "\n",
        "\n",
        "def compute_student_loss_sub(images, labels):\n",
        "\n",
        "  student_subclass_logits = fc_model(images, training=True)\n",
        "\n",
        "  teacher_subclass_logits = cnn_model(images, training=False)\n",
        "  distillation_loss_value = distillation_loss(teacher_subclass_logits, student_subclass_logits, DISTILLATION_TEMPERATURE)\n",
        "\n",
        "  subclass_logits = tf.reshape(student_subclass_logits, (-1, NUM_CLASSES, NUM_SUBCLASSES // NUM_CLASSES))\n",
        "  class_logits = tf.math.reduce_logsumexp(subclass_logits, -1)\n",
        "\n",
        "  cross_entropy_loss_value = ALPHA * tf.nn.softmax_cross_entropy_with_logits(labels, class_logits) + (1.0 - ALPHA) * distillation_loss_value\n",
        "  return cross_entropy_loss_value"
      ],
      "metadata": {
        "id": "HBYzHUfMUXF0"
      },
      "execution_count": null,
      "outputs": []
    },
    {
      "cell_type": "code",
      "source": [
        "# Train and evaluation\n",
        "def compute_num_correct(model, images, labels):\n",
        "\n",
        "  subclass_logits = model(images, training=False)\n",
        "  subclass_logits = tf.reshape(subclass_logits, (-1, NUM_CLASSES, NUM_SUBCLASSES // NUM_CLASSES))\n",
        "  class_logits = tf.math.reduce_logsumexp(subclass_logits, -1)\n",
        "\n",
        "  return tf.reduce_sum(\n",
        "      tf.cast(tf.math.equal(tf.argmax(class_logits, -1), tf.argmax(labels, -1)),\n",
        "              tf.float32)), tf.argmax(class_logits, -1), tf.argmax(labels, -1)\n",
        "\n",
        "def train_and_evaluate(model, compute_loss_fn):\n",
        "\n",
        "  optimizer = tf.keras.optimizers.Adam(learning_rate=0.001)\n",
        "\n",
        "  for epoch in range(1, NUM_EPOCHS + 1):\n",
        "    # Run training.\n",
        "    print('Epoch {}: '.format(epoch), end='')\n",
        "    for images, labels in mnist_train:\n",
        "      with tf.GradientTape() as tape:\n",
        "        loss_value = compute_loss_fn(images, labels)\n",
        "\n",
        "      grads = tape.gradient(loss_value, model.trainable_variables)\n",
        "      optimizer.apply_gradients(zip(grads, model.trainable_variables))\n",
        "\n",
        "    # Run evaluation.\n",
        "    num_correct = 0\n",
        "    num_total = builder.info.splits['test'].num_examples\n",
        "    for images, labels in mnist_test:\n",
        "      num_correct += compute_num_correct(model, images, labels)[0].numpy()\n",
        "    Class_accuracy= num_correct / num_total * 100\n",
        "    print(\"Class_accuracy: \" + '{:.2f}%'.format(Class_accuracy))\n",
        "  return Class_accuracy "
      ],
      "metadata": {
        "id": "K3KDkYJyUcVZ"
      },
      "execution_count": null,
      "outputs": []
    },
    {
      "cell_type": "code",
      "source": [
        "#Teacher model accuracy\n",
        "print('For the teacher model, the accuracy per epochs:')\n",
        "sub_Accuracy_Teacher=train_and_evaluate(cnn_model,compute_teacher_loss)"
      ],
      "metadata": {
        "colab": {
          "base_uri": "https://localhost:8080/"
        },
        "id": "ura3taBqUgFT",
        "outputId": "50ae6dab-1446-4762-bf85-e72b5a78acd2"
      },
      "execution_count": null,
      "outputs": [
        {
          "output_type": "stream",
          "name": "stdout",
          "text": [
            "For the teacher model, the accuracy per epochs:\n",
            "Epoch 1: Class_accuracy: 97.64%\n",
            "Epoch 2: Class_accuracy: 98.55%\n",
            "Epoch 3: Class_accuracy: 98.84%\n",
            "Epoch 4: Class_accuracy: 98.99%\n",
            "Epoch 5: Class_accuracy: 98.96%\n",
            "Epoch 6: Class_accuracy: 99.17%\n",
            "Epoch 7: Class_accuracy: 99.17%\n",
            "Epoch 8: Class_accuracy: 99.23%\n",
            "Epoch 9: Class_accuracy: 99.32%\n",
            "Epoch 10: Class_accuracy: 99.21%\n",
            "Epoch 11: Class_accuracy: 99.24%\n",
            "Epoch 12: Class_accuracy: 99.26%\n"
          ]
        }
      ]
    },
    {
      "cell_type": "code",
      "source": [
        "#cnn_model.save('cnn_model_subclassds.h5')\n",
        "cnn_model=load_model('cnn_model_subclassds.h5')\n",
        "#cnn_model.save_weights('cnn_model_subclassds_weights.h5')"
      ],
      "metadata": {
        "colab": {
          "base_uri": "https://localhost:8080/"
        },
        "id": "UVRYqesZHjvO",
        "outputId": "a5748631-b4a2-4d85-ec20-42ea562a51bc"
      },
      "execution_count": null,
      "outputs": [
        {
          "output_type": "stream",
          "name": "stdout",
          "text": [
            "WARNING:tensorflow:No training configuration found in the save file, so the model was *not* compiled. Compile it manually.\n"
          ]
        },
        {
          "output_type": "stream",
          "name": "stderr",
          "text": [
            "WARNING:tensorflow:No training configuration found in the save file, so the model was *not* compiled. Compile it manually.\n"
          ]
        }
      ]
    },
    {
      "cell_type": "code",
      "source": [
        "ALPHA_spectrum = [0.,0.2,0.5,0.8] # task balance between cross-entropy and distillation loss\n",
        "DISTILLATION_TEMPERATURE_spectrum = [1.,2.,4.,16.,32.,64.] #temperature hyperparameter"
      ],
      "metadata": {
        "id": "bccUO1_hH4U8"
      },
      "execution_count": null,
      "outputs": []
    },
    {
      "cell_type": "code",
      "source": [
        "DISTILLATION_TEMPERATURE_spectrum = [1.,2.,4.,16.,32.,64.] #temperature hyperparameter\n",
        "sub_Accuracy_student_00=[]\n",
        "\n",
        "# for ALPHA in ALPHA_spectrum:\n",
        "ALPHA=0.0\n",
        "print(\"\\n\")\n",
        "print(\"-------- with alpha of \", ALPHA,\"------------\")\n",
        "for DISTILLATION_TEMPERATURE in DISTILLATION_TEMPERATURE_spectrum:\n",
        "  print(\"Alpha (\", ALPHA, \") and temperature of \", DISTILLATION_TEMPERATURE)\n",
        "  print('For the student model, we have the accuracy per epochs of:')\n",
        "  \n",
        "  fc_model = tf.keras.Sequential()\n",
        "  fc_model.add(Flatten(input_shape=(28, 28, 1)))\n",
        "  fc_model.add(Dense(activation='relu', units=784, input_shape=(28, 28, 1)))\n",
        "  fc_model.add(Dense(activation='relu', units=784))\n",
        "  fc_model.add(Dense(units=10))\n",
        "\n",
        "  Accuracy_student_sb = train_and_evaluate(fc_model, compute_student_loss_sub)\n",
        "  fc_model.save('sub_fc_model_alpha'+str(ALPHA)+\"_temperature\"+str(DISTILLATION_TEMPERATURE)+'.h5')\n",
        "  sub_Accuracy_student_00.append(Accuracy_student_sb)"
      ],
      "metadata": {
        "colab": {
          "base_uri": "https://localhost:8080/"
        },
        "id": "AqzScxJwIOne",
        "outputId": "5ac80817-9a2a-4b9c-989d-93b0fb515970"
      },
      "execution_count": null,
      "outputs": [
        {
          "output_type": "stream",
          "name": "stdout",
          "text": [
            "\n",
            "\n",
            "-------- with alpha of  0.0 ------------\n",
            "Alpha ( 0.0 ) and temperature of  1.0\n",
            "For the student model, we have the accuracy per epochs of:\n",
            "Epoch 1: Class_accuracy: 97.49%\n",
            "Epoch 2: Class_accuracy: 98.06%\n",
            "Epoch 3: Class_accuracy: 98.23%\n",
            "Epoch 4: Class_accuracy: 98.29%\n",
            "Epoch 5: Class_accuracy: 98.33%\n",
            "Epoch 6: Class_accuracy: 98.47%\n",
            "Epoch 7: Class_accuracy: 98.13%\n",
            "Epoch 8: Class_accuracy: 98.39%\n",
            "Epoch 9: Class_accuracy: 98.46%\n",
            "Epoch 10: Class_accuracy: 98.53%\n",
            "Epoch 11: Class_accuracy: 98.54%\n",
            "Epoch 12: Class_accuracy: 98.64%\n",
            "WARNING:tensorflow:Compiled the loaded model, but the compiled metrics have yet to be built. `model.compile_metrics` will be empty until you train or evaluate the model.\n"
          ]
        },
        {
          "output_type": "stream",
          "name": "stderr",
          "text": [
            "WARNING:tensorflow:Compiled the loaded model, but the compiled metrics have yet to be built. `model.compile_metrics` will be empty until you train or evaluate the model.\n"
          ]
        },
        {
          "output_type": "stream",
          "name": "stdout",
          "text": [
            "Alpha ( 0.0 ) and temperature of  2.0\n",
            "For the student model, we have the accuracy per epochs of:\n",
            "Epoch 1: Class_accuracy: 97.38%\n",
            "Epoch 2: Class_accuracy: 98.05%\n",
            "Epoch 3: Class_accuracy: 98.22%\n",
            "Epoch 4: Class_accuracy: 98.24%\n",
            "Epoch 5: Class_accuracy: 98.41%\n",
            "Epoch 6: Class_accuracy: 98.51%\n",
            "Epoch 7: Class_accuracy: 98.57%\n",
            "Epoch 8: Class_accuracy: 98.58%\n",
            "Epoch 9: Class_accuracy: 98.66%\n",
            "Epoch 10: Class_accuracy: 98.65%\n",
            "Epoch 11: Class_accuracy: 98.61%\n",
            "Epoch 12: Class_accuracy: 98.70%\n",
            "WARNING:tensorflow:Compiled the loaded model, but the compiled metrics have yet to be built. `model.compile_metrics` will be empty until you train or evaluate the model.\n"
          ]
        },
        {
          "output_type": "stream",
          "name": "stderr",
          "text": [
            "WARNING:tensorflow:Compiled the loaded model, but the compiled metrics have yet to be built. `model.compile_metrics` will be empty until you train or evaluate the model.\n"
          ]
        },
        {
          "output_type": "stream",
          "name": "stdout",
          "text": [
            "Alpha ( 0.0 ) and temperature of  4.0\n",
            "For the student model, we have the accuracy per epochs of:\n",
            "Epoch 1: Class_accuracy: 97.54%\n",
            "Epoch 2: Class_accuracy: 98.22%\n",
            "Epoch 3: Class_accuracy: 98.27%\n",
            "Epoch 4: Class_accuracy: 98.45%\n",
            "Epoch 5: Class_accuracy: 98.51%\n",
            "Epoch 6: Class_accuracy: 98.54%\n",
            "Epoch 7: Class_accuracy: 98.58%\n",
            "Epoch 8: Class_accuracy: 98.53%\n",
            "Epoch 9: Class_accuracy: 98.54%\n",
            "Epoch 10: Class_accuracy: 98.60%\n",
            "Epoch 11: Class_accuracy: 98.70%\n",
            "Epoch 12: Class_accuracy: 98.67%\n",
            "WARNING:tensorflow:Compiled the loaded model, but the compiled metrics have yet to be built. `model.compile_metrics` will be empty until you train or evaluate the model.\n"
          ]
        },
        {
          "output_type": "stream",
          "name": "stderr",
          "text": [
            "WARNING:tensorflow:Compiled the loaded model, but the compiled metrics have yet to be built. `model.compile_metrics` will be empty until you train or evaluate the model.\n"
          ]
        },
        {
          "output_type": "stream",
          "name": "stdout",
          "text": [
            "Alpha ( 0.0 ) and temperature of  16.0\n",
            "For the student model, we have the accuracy per epochs of:\n",
            "Epoch 1: Class_accuracy: 97.07%\n",
            "Epoch 2: Class_accuracy: 97.86%\n",
            "Epoch 3: Class_accuracy: 98.07%\n",
            "Epoch 4: Class_accuracy: 98.23%\n",
            "Epoch 5: Class_accuracy: 98.31%\n",
            "Epoch 6: Class_accuracy: 98.32%\n",
            "Epoch 7: Class_accuracy: 98.54%\n",
            "Epoch 8: Class_accuracy: 98.48%\n",
            "Epoch 9: Class_accuracy: 98.58%\n",
            "Epoch 10: Class_accuracy: 98.63%\n",
            "Epoch 11: Class_accuracy: 98.49%\n",
            "Epoch 12: Class_accuracy: 98.55%\n",
            "WARNING:tensorflow:Compiled the loaded model, but the compiled metrics have yet to be built. `model.compile_metrics` will be empty until you train or evaluate the model.\n"
          ]
        },
        {
          "output_type": "stream",
          "name": "stderr",
          "text": [
            "WARNING:tensorflow:Compiled the loaded model, but the compiled metrics have yet to be built. `model.compile_metrics` will be empty until you train or evaluate the model.\n"
          ]
        },
        {
          "output_type": "stream",
          "name": "stdout",
          "text": [
            "Alpha ( 0.0 ) and temperature of  32.0\n",
            "For the student model, we have the accuracy per epochs of:\n",
            "Epoch 1: Class_accuracy: 97.30%\n",
            "Epoch 2: Class_accuracy: 97.91%\n",
            "Epoch 3: Class_accuracy: 98.23%\n",
            "Epoch 4: Class_accuracy: 98.22%\n",
            "Epoch 5: Class_accuracy: 98.40%\n",
            "Epoch 6: Class_accuracy: 98.34%\n",
            "Epoch 7: Class_accuracy: 98.43%\n",
            "Epoch 8: Class_accuracy: 98.51%\n",
            "Epoch 9: Class_accuracy: 98.48%\n",
            "Epoch 10: Class_accuracy: 98.39%\n",
            "Epoch 11: Class_accuracy: 98.40%\n",
            "Epoch 12: Class_accuracy: 98.59%\n",
            "WARNING:tensorflow:Compiled the loaded model, but the compiled metrics have yet to be built. `model.compile_metrics` will be empty until you train or evaluate the model.\n"
          ]
        },
        {
          "output_type": "stream",
          "name": "stderr",
          "text": [
            "WARNING:tensorflow:Compiled the loaded model, but the compiled metrics have yet to be built. `model.compile_metrics` will be empty until you train or evaluate the model.\n"
          ]
        },
        {
          "output_type": "stream",
          "name": "stdout",
          "text": [
            "Alpha ( 0.0 ) and temperature of  64.0\n",
            "For the student model, we have the accuracy per epochs of:\n",
            "Epoch 1: Class_accuracy: 97.35%\n",
            "Epoch 2: Class_accuracy: 97.73%\n",
            "Epoch 3: Class_accuracy: 98.19%\n",
            "Epoch 4: Class_accuracy: 98.43%\n",
            "Epoch 5: Class_accuracy: 98.46%\n",
            "Epoch 6: Class_accuracy: 98.51%\n",
            "Epoch 7: Class_accuracy: 98.53%\n",
            "Epoch 8: Class_accuracy: 98.55%\n",
            "Epoch 9: Class_accuracy: 98.58%\n",
            "Epoch 10: Class_accuracy: 98.48%\n",
            "Epoch 11: Class_accuracy: 98.53%\n",
            "Epoch 12: Class_accuracy: 98.74%\n",
            "WARNING:tensorflow:Compiled the loaded model, but the compiled metrics have yet to be built. `model.compile_metrics` will be empty until you train or evaluate the model.\n"
          ]
        },
        {
          "output_type": "stream",
          "name": "stderr",
          "text": [
            "WARNING:tensorflow:Compiled the loaded model, but the compiled metrics have yet to be built. `model.compile_metrics` will be empty until you train or evaluate the model.\n"
          ]
        }
      ]
    },
    {
      "cell_type": "code",
      "source": [
        "sub_Accuracy_student_00"
      ],
      "metadata": {
        "colab": {
          "base_uri": "https://localhost:8080/"
        },
        "id": "s2-AJarBtF1R",
        "outputId": "2ee6839b-d2ad-4c0b-9c5f-eba6cf97bd40"
      },
      "execution_count": null,
      "outputs": [
        {
          "output_type": "execute_result",
          "data": {
            "text/plain": [
              "[98.64, 98.7, 98.67, 98.55000000000001, 98.59, 98.74000000000001]"
            ]
          },
          "metadata": {},
          "execution_count": 22
        }
      ]
    },
    {
      "cell_type": "code",
      "source": [
        "DISTILLATION_TEMPERATURE_spectrum = [1.,2.,4.,16.,32.,64.] #temperature hyperparameter\n",
        "sub_Accuracy_student_02=[]\n",
        "\n",
        "# for ALPHA in ALPHA_spectrum:\n",
        "ALPHA=0.2\n",
        "print(\"\\n\")\n",
        "print(\"-------- with alpha of \", ALPHA,\"------------\")\n",
        "for DISTILLATION_TEMPERATURE in DISTILLATION_TEMPERATURE_spectrum:\n",
        "  print(\"Alpha (\", ALPHA, \") and temperature of \", DISTILLATION_TEMPERATURE)\n",
        "  print('For the student model, we have the accuracy per epochs of:')\n",
        "  \n",
        "  fc_model = tf.keras.Sequential()\n",
        "  fc_model.add(Flatten(input_shape=(28, 28, 1)))\n",
        "  fc_model.add(Dense(activation='relu', units=784, input_shape=(28, 28, 1)))\n",
        "  fc_model.add(Dense(activation='relu', units=784))\n",
        "  fc_model.add(Dense(units=10))\n",
        "\n",
        "  Accuracy_student_sb = train_and_evaluate(fc_model, compute_student_loss_sub)\n",
        "  fc_model.save('sub_fc_model_alpha'+str(ALPHA)+\"_temperature\"+str(DISTILLATION_TEMPERATURE)+'.h5')\n",
        "  sub_Accuracy_student_02.append(Accuracy_student_sb)"
      ],
      "metadata": {
        "colab": {
          "base_uri": "https://localhost:8080/"
        },
        "id": "quJzSprZJiIA",
        "outputId": "1a220cb7-050e-4f6c-e540-3f2b8c15132d"
      },
      "execution_count": null,
      "outputs": [
        {
          "output_type": "stream",
          "name": "stdout",
          "text": [
            "\n",
            "\n",
            "-------- with alpha of  0.2 ------------\n",
            "Alpha ( 0.2 ) and temperature of  1.0\n",
            "For the student model, we have the accuracy per epochs of:\n",
            "Epoch 1: Class_accuracy: 97.46%\n",
            "Epoch 2: Class_accuracy: 98.01%\n",
            "Epoch 3: Class_accuracy: 98.22%\n",
            "Epoch 4: Class_accuracy: 98.38%\n",
            "Epoch 5: Class_accuracy: 98.38%\n",
            "Epoch 6: Class_accuracy: 98.45%\n",
            "Epoch 7: Class_accuracy: 98.48%\n",
            "Epoch 8: Class_accuracy: 98.45%\n",
            "Epoch 9: Class_accuracy: 98.56%\n",
            "Epoch 10: Class_accuracy: 98.59%\n",
            "Epoch 11: Class_accuracy: 98.55%\n",
            "Epoch 12: Class_accuracy: 98.57%\n",
            "WARNING:tensorflow:Compiled the loaded model, but the compiled metrics have yet to be built. `model.compile_metrics` will be empty until you train or evaluate the model.\n"
          ]
        },
        {
          "output_type": "stream",
          "name": "stderr",
          "text": [
            "WARNING:tensorflow:Compiled the loaded model, but the compiled metrics have yet to be built. `model.compile_metrics` will be empty until you train or evaluate the model.\n"
          ]
        },
        {
          "output_type": "stream",
          "name": "stdout",
          "text": [
            "Alpha ( 0.2 ) and temperature of  2.0\n",
            "For the student model, we have the accuracy per epochs of:\n",
            "Epoch 1: Class_accuracy: 97.52%\n",
            "Epoch 2: Class_accuracy: 97.90%\n",
            "Epoch 3: Class_accuracy: 98.38%\n",
            "Epoch 4: Class_accuracy: 98.44%\n",
            "Epoch 5: Class_accuracy: 98.50%\n",
            "Epoch 6: Class_accuracy: 98.52%\n",
            "Epoch 7: Class_accuracy: 98.57%\n",
            "Epoch 8: Class_accuracy: 98.50%\n",
            "Epoch 9: Class_accuracy: 98.50%\n",
            "Epoch 10: Class_accuracy: 98.62%\n",
            "Epoch 11: Class_accuracy: 98.62%\n",
            "Epoch 12: Class_accuracy: 98.62%\n",
            "WARNING:tensorflow:Compiled the loaded model, but the compiled metrics have yet to be built. `model.compile_metrics` will be empty until you train or evaluate the model.\n"
          ]
        },
        {
          "output_type": "stream",
          "name": "stderr",
          "text": [
            "WARNING:tensorflow:Compiled the loaded model, but the compiled metrics have yet to be built. `model.compile_metrics` will be empty until you train or evaluate the model.\n"
          ]
        },
        {
          "output_type": "stream",
          "name": "stdout",
          "text": [
            "Alpha ( 0.2 ) and temperature of  4.0\n",
            "For the student model, we have the accuracy per epochs of:\n",
            "Epoch 1: Class_accuracy: 97.47%\n",
            "Epoch 2: Class_accuracy: 98.12%\n",
            "Epoch 3: Class_accuracy: 98.51%\n",
            "Epoch 4: Class_accuracy: 98.43%\n",
            "Epoch 5: Class_accuracy: 98.49%\n",
            "Epoch 6: Class_accuracy: 98.54%\n",
            "Epoch 7: Class_accuracy: 98.46%\n",
            "Epoch 8: Class_accuracy: 98.66%\n",
            "Epoch 9: Class_accuracy: 98.55%\n",
            "Epoch 10: Class_accuracy: 98.62%\n",
            "Epoch 11: Class_accuracy: 98.57%\n",
            "Epoch 12: Class_accuracy: 98.71%\n",
            "WARNING:tensorflow:Compiled the loaded model, but the compiled metrics have yet to be built. `model.compile_metrics` will be empty until you train or evaluate the model.\n"
          ]
        },
        {
          "output_type": "stream",
          "name": "stderr",
          "text": [
            "WARNING:tensorflow:Compiled the loaded model, but the compiled metrics have yet to be built. `model.compile_metrics` will be empty until you train or evaluate the model.\n"
          ]
        },
        {
          "output_type": "stream",
          "name": "stdout",
          "text": [
            "Alpha ( 0.2 ) and temperature of  16.0\n",
            "For the student model, we have the accuracy per epochs of:\n",
            "Epoch 1: Class_accuracy: 97.13%\n",
            "Epoch 2: Class_accuracy: 97.97%\n",
            "Epoch 3: Class_accuracy: 98.17%\n",
            "Epoch 4: Class_accuracy: 98.19%\n",
            "Epoch 5: Class_accuracy: 98.49%\n",
            "Epoch 6: Class_accuracy: 98.48%\n",
            "Epoch 7: Class_accuracy: 98.42%\n",
            "Epoch 8: Class_accuracy: 98.54%\n",
            "Epoch 9: Class_accuracy: 98.52%\n",
            "Epoch 10: Class_accuracy: 98.53%\n",
            "Epoch 11: Class_accuracy: 98.51%\n",
            "Epoch 12: Class_accuracy: 98.60%\n",
            "WARNING:tensorflow:Compiled the loaded model, but the compiled metrics have yet to be built. `model.compile_metrics` will be empty until you train or evaluate the model.\n"
          ]
        },
        {
          "output_type": "stream",
          "name": "stderr",
          "text": [
            "WARNING:tensorflow:Compiled the loaded model, but the compiled metrics have yet to be built. `model.compile_metrics` will be empty until you train or evaluate the model.\n"
          ]
        },
        {
          "output_type": "stream",
          "name": "stdout",
          "text": [
            "Alpha ( 0.2 ) and temperature of  32.0\n",
            "For the student model, we have the accuracy per epochs of:\n",
            "Epoch 1: Class_accuracy: 97.40%\n",
            "Epoch 2: Class_accuracy: 97.83%\n",
            "Epoch 3: Class_accuracy: 98.17%\n",
            "Epoch 4: Class_accuracy: 98.30%\n",
            "Epoch 5: Class_accuracy: 98.37%\n",
            "Epoch 6: Class_accuracy: 98.45%\n",
            "Epoch 7: Class_accuracy: 98.48%\n",
            "Epoch 8: Class_accuracy: 98.45%\n",
            "Epoch 9: Class_accuracy: 98.50%\n",
            "Epoch 10: Class_accuracy: 98.50%\n",
            "Epoch 11: Class_accuracy: 98.54%\n",
            "Epoch 12: Class_accuracy: 98.50%\n",
            "WARNING:tensorflow:Compiled the loaded model, but the compiled metrics have yet to be built. `model.compile_metrics` will be empty until you train or evaluate the model.\n"
          ]
        },
        {
          "output_type": "stream",
          "name": "stderr",
          "text": [
            "WARNING:tensorflow:Compiled the loaded model, but the compiled metrics have yet to be built. `model.compile_metrics` will be empty until you train or evaluate the model.\n"
          ]
        },
        {
          "output_type": "stream",
          "name": "stdout",
          "text": [
            "Alpha ( 0.2 ) and temperature of  64.0\n",
            "For the student model, we have the accuracy per epochs of:\n",
            "Epoch 1: Class_accuracy: 97.18%\n",
            "Epoch 2: Class_accuracy: 98.01%\n",
            "Epoch 3: Class_accuracy: 98.09%\n",
            "Epoch 4: Class_accuracy: 98.20%\n",
            "Epoch 5: Class_accuracy: 98.33%\n",
            "Epoch 6: Class_accuracy: 98.24%\n",
            "Epoch 7: Class_accuracy: 98.43%\n",
            "Epoch 8: Class_accuracy: 98.49%\n",
            "Epoch 9: Class_accuracy: 98.39%\n",
            "Epoch 10: Class_accuracy: 98.45%\n",
            "Epoch 11: Class_accuracy: 98.55%\n",
            "Epoch 12: Class_accuracy: 98.55%\n",
            "WARNING:tensorflow:Compiled the loaded model, but the compiled metrics have yet to be built. `model.compile_metrics` will be empty until you train or evaluate the model.\n"
          ]
        },
        {
          "output_type": "stream",
          "name": "stderr",
          "text": [
            "WARNING:tensorflow:Compiled the loaded model, but the compiled metrics have yet to be built. `model.compile_metrics` will be empty until you train or evaluate the model.\n"
          ]
        }
      ]
    },
    {
      "cell_type": "code",
      "source": [
        "sub_Accuracy_student_02"
      ],
      "metadata": {
        "colab": {
          "base_uri": "https://localhost:8080/"
        },
        "id": "uR0HwpZwtOfq",
        "outputId": "44080dfb-9908-4277-b3a1-a173e58555a6"
      },
      "execution_count": null,
      "outputs": [
        {
          "output_type": "execute_result",
          "data": {
            "text/plain": [
              "[98.57000000000001, 98.61999999999999, 98.71, 98.6, 98.5, 98.55000000000001]"
            ]
          },
          "metadata": {},
          "execution_count": 23
        }
      ]
    },
    {
      "cell_type": "code",
      "source": [
        "DISTILLATION_TEMPERATURE_spectrum = [1.,2.,4.,16.,32.,64.] #temperature hyperparameter\n",
        "sub_Accuracy_student_05=[]\n",
        "\n",
        "# for ALPHA in ALPHA_spectrum:\n",
        "ALPHA=0.5\n",
        "print(\"\\n\")\n",
        "print(\"-------- with alpha of \", ALPHA,\"------------\")\n",
        "for DISTILLATION_TEMPERATURE in DISTILLATION_TEMPERATURE_spectrum:\n",
        "  print(\"Alpha (\", ALPHA, \") and temperature of \", DISTILLATION_TEMPERATURE)\n",
        "  print('For the student model, we have the accuracy per epochs of:')\n",
        "  \n",
        "  fc_model = tf.keras.Sequential()\n",
        "  fc_model.add(Flatten(input_shape=(28, 28, 1)))\n",
        "  fc_model.add(Dense(activation='relu', units=784, input_shape=(28, 28, 1)))\n",
        "  fc_model.add(Dense(activation='relu', units=784))\n",
        "  fc_model.add(Dense(units=10))\n",
        "\n",
        "  Accuracy_student_sb = train_and_evaluate(fc_model, compute_student_loss_sub)\n",
        "  fc_model.save('sub_fc_model_alpha'+str(ALPHA)+\"_temperature\"+str(DISTILLATION_TEMPERATURE)+'.h5')\n",
        "  sub_Accuracy_student_05.append(Accuracy_student_sb)"
      ],
      "metadata": {
        "colab": {
          "base_uri": "https://localhost:8080/"
        },
        "id": "TxCAPU5gJPOc",
        "outputId": "48a0f513-be15-4503-a2ce-a51e1e3d70ee"
      },
      "execution_count": null,
      "outputs": [
        {
          "output_type": "stream",
          "name": "stdout",
          "text": [
            "\n",
            "\n",
            "-------- with alpha of  0.5 ------------\n",
            "Alpha ( 0.5 ) and temperature of  1.0\n",
            "For the student model, we have the accuracy per epochs of:\n",
            "Epoch 1: Class_accuracy: 97.55%\n",
            "Epoch 2: Class_accuracy: 98.04%\n",
            "Epoch 3: Class_accuracy: 98.01%\n",
            "Epoch 4: Class_accuracy: 98.25%\n",
            "Epoch 5: Class_accuracy: 98.27%\n",
            "Epoch 6: Class_accuracy: 98.48%\n",
            "Epoch 7: Class_accuracy: 98.42%\n",
            "Epoch 8: Class_accuracy: 98.23%\n",
            "Epoch 9: Class_accuracy: 98.58%\n",
            "Epoch 10: Class_accuracy: 98.56%\n",
            "Epoch 11: Class_accuracy: 98.42%\n",
            "Epoch 12: Class_accuracy: 98.63%\n",
            "WARNING:tensorflow:Compiled the loaded model, but the compiled metrics have yet to be built. `model.compile_metrics` will be empty until you train or evaluate the model.\n"
          ]
        },
        {
          "output_type": "stream",
          "name": "stderr",
          "text": [
            "WARNING:tensorflow:Compiled the loaded model, but the compiled metrics have yet to be built. `model.compile_metrics` will be empty until you train or evaluate the model.\n"
          ]
        },
        {
          "output_type": "stream",
          "name": "stdout",
          "text": [
            "Alpha ( 0.5 ) and temperature of  2.0\n",
            "For the student model, we have the accuracy per epochs of:\n",
            "Epoch 1: Class_accuracy: 97.45%\n",
            "Epoch 2: Class_accuracy: 98.01%\n",
            "Epoch 3: Class_accuracy: 98.43%\n",
            "Epoch 4: Class_accuracy: 98.49%\n",
            "Epoch 5: Class_accuracy: 98.40%\n",
            "Epoch 6: Class_accuracy: 98.51%\n",
            "Epoch 7: Class_accuracy: 98.61%\n",
            "Epoch 8: Class_accuracy: 98.60%\n",
            "Epoch 9: Class_accuracy: 98.56%\n",
            "Epoch 10: Class_accuracy: 98.39%\n",
            "Epoch 11: Class_accuracy: 98.56%\n",
            "Epoch 12: Class_accuracy: 98.68%\n",
            "WARNING:tensorflow:Compiled the loaded model, but the compiled metrics have yet to be built. `model.compile_metrics` will be empty until you train or evaluate the model.\n"
          ]
        },
        {
          "output_type": "stream",
          "name": "stderr",
          "text": [
            "WARNING:tensorflow:Compiled the loaded model, but the compiled metrics have yet to be built. `model.compile_metrics` will be empty until you train or evaluate the model.\n"
          ]
        },
        {
          "output_type": "stream",
          "name": "stdout",
          "text": [
            "Alpha ( 0.5 ) and temperature of  4.0\n",
            "For the student model, we have the accuracy per epochs of:\n",
            "Epoch 1: Class_accuracy: 97.58%\n",
            "Epoch 2: Class_accuracy: 98.05%\n",
            "Epoch 3: Class_accuracy: 98.20%\n",
            "Epoch 4: Class_accuracy: 98.34%\n",
            "Epoch 5: Class_accuracy: 98.42%\n",
            "Epoch 6: Class_accuracy: 98.52%\n",
            "Epoch 7: Class_accuracy: 98.54%\n",
            "Epoch 8: Class_accuracy: 98.58%\n",
            "Epoch 9: Class_accuracy: 98.48%\n",
            "Epoch 10: Class_accuracy: 98.57%\n",
            "Epoch 11: Class_accuracy: 98.64%\n",
            "Epoch 12: Class_accuracy: 98.56%\n",
            "WARNING:tensorflow:Compiled the loaded model, but the compiled metrics have yet to be built. `model.compile_metrics` will be empty until you train or evaluate the model.\n"
          ]
        },
        {
          "output_type": "stream",
          "name": "stderr",
          "text": [
            "WARNING:tensorflow:Compiled the loaded model, but the compiled metrics have yet to be built. `model.compile_metrics` will be empty until you train or evaluate the model.\n"
          ]
        },
        {
          "output_type": "stream",
          "name": "stdout",
          "text": [
            "Alpha ( 0.5 ) and temperature of  16.0\n",
            "For the student model, we have the accuracy per epochs of:\n",
            "Epoch 1: Class_accuracy: 97.24%\n",
            "Epoch 2: Class_accuracy: 97.90%\n",
            "Epoch 3: Class_accuracy: 98.29%\n",
            "Epoch 4: Class_accuracy: 98.32%\n",
            "Epoch 5: Class_accuracy: 98.54%\n",
            "Epoch 6: Class_accuracy: 98.47%\n",
            "Epoch 7: Class_accuracy: 98.53%\n",
            "Epoch 8: Class_accuracy: 98.59%\n",
            "Epoch 9: Class_accuracy: 98.66%\n",
            "Epoch 10: Class_accuracy: 98.58%\n",
            "Epoch 11: Class_accuracy: 98.70%\n",
            "Epoch 12: Class_accuracy: 98.67%\n",
            "WARNING:tensorflow:Compiled the loaded model, but the compiled metrics have yet to be built. `model.compile_metrics` will be empty until you train or evaluate the model.\n"
          ]
        },
        {
          "output_type": "stream",
          "name": "stderr",
          "text": [
            "WARNING:tensorflow:Compiled the loaded model, but the compiled metrics have yet to be built. `model.compile_metrics` will be empty until you train or evaluate the model.\n"
          ]
        },
        {
          "output_type": "stream",
          "name": "stdout",
          "text": [
            "Alpha ( 0.5 ) and temperature of  32.0\n",
            "For the student model, we have the accuracy per epochs of:\n",
            "Epoch 1: Class_accuracy: 97.39%\n",
            "Epoch 2: Class_accuracy: 98.03%\n",
            "Epoch 3: Class_accuracy: 98.30%\n",
            "Epoch 4: Class_accuracy: 98.26%\n",
            "Epoch 5: Class_accuracy: 98.46%\n",
            "Epoch 6: Class_accuracy: 98.45%\n",
            "Epoch 7: Class_accuracy: 98.54%\n",
            "Epoch 8: Class_accuracy: 98.65%\n",
            "Epoch 9: Class_accuracy: 98.61%\n",
            "Epoch 10: Class_accuracy: 98.67%\n",
            "Epoch 11: Class_accuracy: 98.65%\n",
            "Epoch 12: Class_accuracy: 98.75%\n",
            "WARNING:tensorflow:Compiled the loaded model, but the compiled metrics have yet to be built. `model.compile_metrics` will be empty until you train or evaluate the model.\n"
          ]
        },
        {
          "output_type": "stream",
          "name": "stderr",
          "text": [
            "WARNING:tensorflow:Compiled the loaded model, but the compiled metrics have yet to be built. `model.compile_metrics` will be empty until you train or evaluate the model.\n"
          ]
        },
        {
          "output_type": "stream",
          "name": "stdout",
          "text": [
            "Alpha ( 0.5 ) and temperature of  64.0\n",
            "For the student model, we have the accuracy per epochs of:\n",
            "Epoch 1: Class_accuracy: 97.32%\n",
            "Epoch 2: Class_accuracy: 97.96%\n",
            "Epoch 3: Class_accuracy: 98.16%\n",
            "Epoch 4: Class_accuracy: 98.38%\n",
            "Epoch 5: Class_accuracy: 98.42%\n",
            "Epoch 6: Class_accuracy: 98.49%\n",
            "Epoch 7: Class_accuracy: 98.56%\n",
            "Epoch 8: Class_accuracy: 98.49%\n",
            "Epoch 9: Class_accuracy: 98.54%\n",
            "Epoch 10: Class_accuracy: 98.51%\n",
            "Epoch 11: Class_accuracy: 98.56%\n",
            "Epoch 12: Class_accuracy: 98.55%\n",
            "WARNING:tensorflow:Compiled the loaded model, but the compiled metrics have yet to be built. `model.compile_metrics` will be empty until you train or evaluate the model.\n"
          ]
        },
        {
          "output_type": "stream",
          "name": "stderr",
          "text": [
            "WARNING:tensorflow:Compiled the loaded model, but the compiled metrics have yet to be built. `model.compile_metrics` will be empty until you train or evaluate the model.\n"
          ]
        }
      ]
    },
    {
      "cell_type": "code",
      "source": [
        "sub_Accuracy_student_05"
      ],
      "metadata": {
        "colab": {
          "base_uri": "https://localhost:8080/"
        },
        "id": "NNeFf9gss4wP",
        "outputId": "8108b380-be21-4e6d-8a49-90bdd9a8dc92"
      },
      "execution_count": null,
      "outputs": [
        {
          "output_type": "execute_result",
          "data": {
            "text/plain": [
              "[98.63, 98.68, 98.56, 98.67, 98.75, 98.55000000000001]"
            ]
          },
          "metadata": {},
          "execution_count": 19
        }
      ]
    },
    {
      "cell_type": "code",
      "source": [
        "DISTILLATION_TEMPERATURE_spectrum = [1.,2.,4.,16.,32.,64.] #temperature hyperparameter\n",
        "sub_Accuracy_student_08=[]\n",
        "\n",
        "# for ALPHA in ALPHA_spectrum:\n",
        "ALPHA=0.8\n",
        "print(\"\\n\")\n",
        "print(\"-------- with alpha of \", ALPHA,\"------------\")\n",
        "for DISTILLATION_TEMPERATURE in DISTILLATION_TEMPERATURE_spectrum:\n",
        "  print(\"Alpha (\", ALPHA, \") and temperature of \", DISTILLATION_TEMPERATURE)\n",
        "  print('For the student model, we have the accuracy per epochs of:')\n",
        "  \n",
        "  fc_model = tf.keras.Sequential()\n",
        "  fc_model.add(Flatten(input_shape=(28, 28, 1)))\n",
        "  fc_model.add(Dense(activation='relu', units=784, input_shape=(28, 28, 1)))\n",
        "  fc_model.add(Dense(activation='relu', units=784))\n",
        "  fc_model.add(Dense(units=10))\n",
        "\n",
        "  Accuracy_student_sb = train_and_evaluate(fc_model, compute_student_loss_sub)\n",
        "  fc_model.save('sub_fc_model_alpha'+str(ALPHA)+\"_temperature\"+str(DISTILLATION_TEMPERATURE)+'.h5')\n",
        "  sub_Accuracy_student_08.append(Accuracy_student_sb)"
      ],
      "metadata": {
        "colab": {
          "base_uri": "https://localhost:8080/"
        },
        "id": "Zf8hhqnhJuSG",
        "outputId": "218ec025-90de-4f26-c022-b266034be920"
      },
      "execution_count": null,
      "outputs": [
        {
          "metadata": {
            "tags": null
          },
          "name": "stdout",
          "output_type": "stream",
          "text": [
            "\n",
            "\n",
            "-------- with alpha of  0.8 ------------\n",
            "Alpha ( 0.8 ) and temperature of  1.0\n",
            "For the student model, we have the accuracy per epochs of:\n",
            "Epoch 1: Class_accuracy: 97.50%\n",
            "Epoch 2: Class_accuracy: 98.04%\n",
            "Epoch 3: Class_accuracy: 98.33%\n",
            "Epoch 4: Class_accuracy: 98.10%\n",
            "Epoch 5: Class_accuracy: 98.51%\n",
            "Epoch 6: Class_accuracy: 98.41%\n",
            "Epoch 7: Class_accuracy: 98.42%\n",
            "Epoch 8: Class_accuracy: 98.57%\n",
            "Epoch 9: Class_accuracy: 98.27%\n",
            "Epoch 10: Class_accuracy: 98.68%\n",
            "Epoch 11: Class_accuracy: 98.61%\n",
            "Epoch 12: Class_accuracy: 98.56%\n",
            "WARNING:tensorflow:Compiled the loaded model, but the compiled metrics have yet to be built. `model.compile_metrics` will be empty until you train or evaluate the model.\n"
          ]
        },
        {
          "metadata": {
            "tags": null
          },
          "name": "stderr",
          "output_type": "stream",
          "text": [
            "WARNING:tensorflow:Compiled the loaded model, but the compiled metrics have yet to be built. `model.compile_metrics` will be empty until you train or evaluate the model.\n"
          ]
        },
        {
          "metadata": {
            "tags": null
          },
          "name": "stdout",
          "output_type": "stream",
          "text": [
            "Alpha ( 0.8 ) and temperature of  2.0\n",
            "For the student model, we have the accuracy per epochs of:\n",
            "Epoch 1: Class_accuracy: 97.17%\n",
            "Epoch 2: Class_accuracy: 97.93%\n",
            "Epoch 3: Class_accuracy: 98.22%\n",
            "Epoch 4: Class_accuracy: 98.24%\n",
            "Epoch 5: Class_accuracy: 98.38%\n",
            "Epoch 6: Class_accuracy: 98.49%\n",
            "Epoch 7: Class_accuracy: 98.51%\n",
            "Epoch 8: Class_accuracy: 98.54%\n",
            "Epoch 9: Class_accuracy: 98.48%\n",
            "Epoch 10: Class_accuracy: 98.56%\n",
            "Epoch 11: Class_accuracy: 98.40%\n",
            "Epoch 12: Class_accuracy: 98.51%\n",
            "WARNING:tensorflow:Compiled the loaded model, but the compiled metrics have yet to be built. `model.compile_metrics` will be empty until you train or evaluate the model.\n"
          ]
        },
        {
          "metadata": {
            "tags": null
          },
          "name": "stderr",
          "output_type": "stream",
          "text": [
            "WARNING:tensorflow:Compiled the loaded model, but the compiled metrics have yet to be built. `model.compile_metrics` will be empty until you train or evaluate the model.\n"
          ]
        },
        {
          "metadata": {
            "tags": null
          },
          "name": "stdout",
          "output_type": "stream",
          "text": [
            "Alpha ( 0.8 ) and temperature of  4.0\n",
            "For the student model, we have the accuracy per epochs of:\n",
            "Epoch 1: Class_accuracy: 97.59%\n",
            "Epoch 2: Class_accuracy: 98.28%\n",
            "Epoch 3: Class_accuracy: 98.23%\n",
            "Epoch 4: Class_accuracy: 98.55%\n",
            "Epoch 5: Class_accuracy: 98.45%\n",
            "Epoch 6: Class_accuracy: 98.54%\n",
            "Epoch 7: Class_accuracy: 98.51%\n",
            "Epoch 8: Class_accuracy: 98.64%\n",
            "Epoch 9: Class_accuracy: 98.71%\n",
            "Epoch 10: Class_accuracy: 98.56%\n",
            "Epoch 11: Class_accuracy: 98.57%\n",
            "Epoch 12: Class_accuracy: 98.63%\n",
            "WARNING:tensorflow:Compiled the loaded model, but the compiled metrics have yet to be built. `model.compile_metrics` will be empty until you train or evaluate the model.\n"
          ]
        },
        {
          "metadata": {
            "tags": null
          },
          "name": "stderr",
          "output_type": "stream",
          "text": [
            "WARNING:tensorflow:Compiled the loaded model, but the compiled metrics have yet to be built. `model.compile_metrics` will be empty until you train or evaluate the model.\n"
          ]
        },
        {
          "metadata": {
            "tags": null
          },
          "name": "stdout",
          "output_type": "stream",
          "text": [
            "Alpha ( 0.8 ) and temperature of  16.0\n",
            "For the student model, we have the accuracy per epochs of:\n",
            "Epoch 1: Class_accuracy: 97.66%\n",
            "Epoch 2: Class_accuracy: 98.05%\n",
            "Epoch 3: Class_accuracy: 98.24%\n",
            "Epoch 4: Class_accuracy: 98.50%\n",
            "Epoch 5: Class_accuracy: 98.47%\n",
            "Epoch 6: Class_accuracy: 98.56%\n",
            "Epoch 7: Class_accuracy: 98.77%\n",
            "Epoch 8: Class_accuracy: 98.65%\n",
            "Epoch 9: Class_accuracy: 98.80%\n",
            "Epoch 10: Class_accuracy: 98.68%\n",
            "Epoch 11: Class_accuracy: 98.57%\n",
            "Epoch 12: Class_accuracy: 98.66%\n",
            "WARNING:tensorflow:Compiled the loaded model, but the compiled metrics have yet to be built. `model.compile_metrics` will be empty until you train or evaluate the model.\n"
          ]
        },
        {
          "metadata": {
            "tags": null
          },
          "name": "stderr",
          "output_type": "stream",
          "text": [
            "WARNING:tensorflow:Compiled the loaded model, but the compiled metrics have yet to be built. `model.compile_metrics` will be empty until you train or evaluate the model.\n"
          ]
        },
        {
          "metadata": {
            "tags": null
          },
          "name": "stdout",
          "output_type": "stream",
          "text": [
            "Alpha ( 0.8 ) and temperature of  32.0\n",
            "For the student model, we have the accuracy per epochs of:\n",
            "Epoch 1: Class_accuracy: 97.51%\n",
            "Epoch 2: Class_accuracy: 98.18%\n",
            "Epoch 3: Class_accuracy: 98.30%\n",
            "Epoch 4: Class_accuracy: 98.37%\n",
            "Epoch 5: Class_accuracy: 98.55%\n",
            "Epoch 6: Class_accuracy: 98.47%\n",
            "Epoch 7: Class_accuracy: 98.54%\n",
            "Epoch 8: Class_accuracy: 98.61%\n",
            "Epoch 9: Class_accuracy: 98.57%\n",
            "Epoch 10: Class_accuracy: 98.59%\n",
            "Epoch 11: Class_accuracy: 98.59%\n",
            "Epoch 12: Class_accuracy: 98.61%\n",
            "WARNING:tensorflow:Compiled the loaded model, but the compiled metrics have yet to be built. `model.compile_metrics` will be empty until you train or evaluate the model.\n"
          ]
        },
        {
          "metadata": {
            "tags": null
          },
          "name": "stderr",
          "output_type": "stream",
          "text": [
            "WARNING:tensorflow:Compiled the loaded model, but the compiled metrics have yet to be built. `model.compile_metrics` will be empty until you train or evaluate the model.\n"
          ]
        },
        {
          "output_type": "stream",
          "name": "stdout",
          "text": [
            "Alpha ( 0.8 ) and temperature of  64.0\n",
            "For the student model, we have the accuracy per epochs of:\n",
            "Epoch 1: Class_accuracy: 97.41%\n",
            "Epoch 2: Class_accuracy: 98.24%\n",
            "Epoch 3: Class_accuracy: 98.16%\n",
            "Epoch 4: Class_accuracy: 98.45%\n",
            "Epoch 5: Class_accuracy: 98.49%\n",
            "Epoch 6: Class_accuracy: 98.49%\n",
            "Epoch 7: Class_accuracy: 98.46%\n",
            "Epoch 8: Class_accuracy: 98.55%\n",
            "Epoch 9: Class_accuracy: 98.62%\n",
            "Epoch 10: Class_accuracy: 98.65%\n",
            "Epoch 11: Class_accuracy: 98.69%\n",
            "Epoch 12: Class_accuracy: 98.63%\n",
            "WARNING:tensorflow:Compiled the loaded model, but the compiled metrics have yet to be built. `model.compile_metrics` will be empty until you train or evaluate the model.\n"
          ]
        },
        {
          "output_type": "stream",
          "name": "stderr",
          "text": [
            "WARNING:tensorflow:Compiled the loaded model, but the compiled metrics have yet to be built. `model.compile_metrics` will be empty until you train or evaluate the model.\n"
          ]
        }
      ]
    },
    {
      "cell_type": "code",
      "source": [
        "sub_Accuracy_student_08"
      ],
      "metadata": {
        "colab": {
          "base_uri": "https://localhost:8080/"
        },
        "id": "S6XHvvOgs-sO",
        "outputId": "a105edef-61e6-4042-ed5d-92b3df454af2"
      },
      "execution_count": null,
      "outputs": [
        {
          "output_type": "execute_result",
          "data": {
            "text/plain": [
              "[98.56, 98.50999999999999, 98.63, 98.66, 98.61, 98.63]"
            ]
          },
          "metadata": {},
          "execution_count": 20
        }
      ]
    },
    {
      "cell_type": "code",
      "source": [
        "ALPHA_spectrum = [0.,0.2,0.5,0.8] # task balance between cross-entropy and distillation loss\n",
        "DISTILLATION_TEMPERATURE_spectrum = [1.,2.,4.,16.,32.,64.] \n",
        "sub_All_Accuracy_student=[]\n",
        "\n",
        "for ALPHA in ALPHA_spectrum:\n",
        "  print(\"\\n\")\n",
        "  print(\"-------- with alpha of \", ALPHA,\"------------\")\n",
        "  for DISTILLATION_TEMPERATURE in DISTILLATION_TEMPERATURE_spectrum:\n",
        "    model=load_model('fc_model_alpha'+str(ALPHA)+\"_temperature\"+str(DISTILLATION_TEMPERATURE)+'.h5')\n",
        "    num_correct = 0\n",
        "    num_total = builder.info.splits['test'].num_examples\n",
        "    for images, labels in mnist_test:\n",
        "      # your code start from here for step 4\n",
        "      num_correct += compute_num_correct(model, images, labels)[0]\n",
        "    Class_accuracy=num_correct / num_total * 100  \n",
        "    print('\\n')\n",
        "    print(\"Class_accuracy of \"+'fc_model with alpha of '+str(ALPHA)+\" and temperature of \"+str(DISTILLATION_TEMPERATURE) + 'is {:.2f}%'.format(\n",
        "        Class_accuracy))\n",
        "    print('\\n')\n",
        "    sub_All_Accuracy_student.append(Class_accuracy)"
      ],
      "metadata": {
        "id": "yiUqnHB_tqI8"
      },
      "execution_count": null,
      "outputs": []
    },
    {
      "cell_type": "code",
      "source": [
        "sub_Accuracy_student_0_, sub_Accuracy_student_02_, sub_Accuracy_student_05_, sub_Accuracy_student_08_ =sub_Accuracy_student_00, sub_Accuracy_student_02, sub_Accuracy_student_05, sub_Accuracy_student_08 "
      ],
      "metadata": {
        "id": "q9FKeFtptuaF"
      },
      "execution_count": null,
      "outputs": []
    },
    {
      "cell_type": "code",
      "source": [
        "#sub_Accuracy_student_0_, sub_Accuracy_student_02_, sub_Accuracy_student_05_, sub_Accuracy_student_08_ = sub_All_Accuracy_student[0: 6],sub_All_Accuracy_student[6: 12],sub_All_Accuracy_student[12: 18],sub_All_Accuracy_student[18: 24] \n",
        "\n",
        "fig, ax = plt.subplots(figsize=(10,10))\n",
        "ax.set_xscale('log',basex=2)\n",
        "ax.plot(DISTILLATION_TEMPERATURE_spectrum,sub_Accuracy_student_0_, marker='o', label='ALPHA=0.0')\n",
        "ax.plot(DISTILLATION_TEMPERATURE_spectrum, sub_Accuracy_student_02_, marker='o', label='ALPHA=0.2')\n",
        "ax.plot(DISTILLATION_TEMPERATURE_spectrum, sub_Accuracy_student_05_, marker='o', label='ALPHA=0.5')\n",
        "ax.plot(DISTILLATION_TEMPERATURE_spectrum, sub_Accuracy_student_08_, marker='o', label='ALPHA=0.8')\n",
        "plt.ylim(98.4,98.9)\n",
        "plt.ylabel('Test Accuracy')\n",
        "plt.xlabel('Temperature')\n",
        "plt.title('Effects of Temperature and Alpha on Test Accuracy')\n",
        "plt.legend()\n",
        "plt.show()\n",
        "plt.savefig('sub_talphatestaccuracy.png')"
      ],
      "metadata": {
        "id": "yQx4eFtPKHsO",
        "colab": {
          "base_uri": "https://localhost:8080/",
          "height": 642
        },
        "outputId": "66383e72-92dd-467f-8775-1d217c33e2e9"
      },
      "execution_count": null,
      "outputs": [
        {
          "output_type": "display_data",
          "data": {
            "text/plain": [
              "<Figure size 720x720 with 1 Axes>"
            ],
            "image/png": "[encoded data removed]"
          },
          "metadata": {
            "needs_background": "light"
          }
        },
        {
          "output_type": "display_data",
          "data": {
            "text/plain": [
              "<Figure size 432x288 with 0 Axes>"
            ]
          },
          "metadata": {}
        }
      ]
    },
    {
      "cell_type": "code",
      "source": [
        "# compare 2 kd"
      ],
      "metadata": {
        "id": "Ecbs2GlWLIbR"
      },
      "execution_count": null,
      "outputs": []
    },
    {
      "cell_type": "code",
      "source": [
        "fig, axs = plt.subplots(4, 1, figsize=(10,20))\n",
        "for ax in axs.flat:\n",
        "  ax.set(xlabel='Temperature', ylabel='Test Accuracy')\n",
        "axs[0].set_xscale('log', basex=2)\n",
        "axs[1].set_xscale('log', basex=2)\n",
        "axs[2].set_xscale('log', basex=2)\n",
        "axs[3].set_xscale('log', basex=2)\n",
        "\n",
        "axs[0].plot(DISTILLATION_TEMPERATURE_spectrum, Accuracy_student_0_, marker='o', label='Conventional KD')\n",
        "axs[0].plot(DISTILLATION_TEMPERATURE_spectrum, sub_Accuracy_student_0_, marker='o', label='Subclass KD')\n",
        "axs[0].set_title('Test Accuracy vs. Temperature with alpha=0')\n",
        "axs[0].legend()\n",
        "\n",
        "axs[1].plot(DISTILLATION_TEMPERATURE_spectrum, Accuracy_student_02_, marker='o', label='Conventional KD')\n",
        "axs[1].plot(DISTILLATION_TEMPERATURE_spectrum, sub_Accuracy_student_02_, marker='o', label='Subclass KD')\n",
        "axs[1].set_title('Test Accuracy vs. Temperature with alpha=0')\n",
        "axs[1].legend()\n",
        "\n",
        "\n",
        "axs[2].plot(DISTILLATION_TEMPERATURE_spectrum, Accuracy_student_05_, marker='o', label='Conventional KD')\n",
        "axs[2].plot(DISTILLATION_TEMPERATURE_spectrum, sub_Accuracy_student_05_, marker='o', label='Subclass KD')\n",
        "axs[2].set_title('Test Accuracy vs. Temperature with alpha=0')\n",
        "axs[2].legend()\n",
        "\n",
        "\n",
        "axs[3].plot(DISTILLATION_TEMPERATURE_spectrum, Accuracy_student_08_, marker='o', label='Conventional KD')\n",
        "axs[3].plot(DISTILLATION_TEMPERATURE_spectrum, sub_Accuracy_student_08_, marker='o', label='Subclass KD')\n",
        "axs[3].set_title('Test Accuracy vs. Temperature with alpha=0')\n",
        "axs[3].legend()\n",
        "\n",
        "plt.tight_layout(pad=5.0)\n",
        "plt.show()\n",
        "plt.savefig('sub_vs_conv.png')"
      ],
      "metadata": {
        "id": "ruXx6bhNLxEK",
        "colab": {
          "base_uri": "https://localhost:8080/",
          "height": 1000
        },
        "outputId": "a528c79f-ab5f-412c-cc40-e379c2aa443e"
      },
      "execution_count": null,
      "outputs": [
        {
          "output_type": "display_data",
          "data": {
            "text/plain": [
              "<Figure size 720x1440 with 4 Axes>"
            ],
            "image/png": "[encoded data removed]"
          },
          "metadata": {
            "needs_background": "light"
          }
        },
        {
          "output_type": "display_data",
          "data": {
            "text/plain": [
              "<Figure size 432x288 with 0 Axes>"
            ]
          },
          "metadata": {}
        }
      ]
    }
  ]
}